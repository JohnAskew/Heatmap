{
 "cells": [
  {
   "cell_type": "markdown",
   "metadata": {},
   "source": [
    "<a id='title'></a>\n",
    "# <bold><font color=gray>Jupyter App:</font><font color=darkpink> A Student's Analysis of his Domestic Thermal Footprint</font></bold>\n",
    "## <bold><font color=white>=================</font><font color=purple>Or, how the Raspberry Pi saved me $5,000.</font>"
   ]
  },
  {
   "cell_type": "markdown",
   "metadata": {},
   "source": [
    "## <font size=5 color=darkpink>Abstract:</font>\n",
    "\n",
    "Concerned with utility costs during summer peak months, ideas on how to reduce spending came up. Before making any big ticket commitments, we started looking at ways to improve utility efficiencies.  We lacked current information about the \"domestic thermal qualities\" or HVAC and insulation efficiencies, so we set out to study the impact of the environment on our home's a/c usage as well as assess the a/c cooling abilities. The challenge was to make reliable assessments within a budget. The middle game was to evaluate the a/c cooling unit's effectiveness. The end game was to determine if the overall goal could be met economically, by making small changes internally to promote cooling effeciency. <font color=black>**Methods:**</font> Raspberry Pi microcomputers were fitted with sensors to measure temperature and humidity and then stream the data to cloud. The sensors were a collection of DHT22 and DHT11 sensors, each collecting temperature and humidity. A weather polling service using python was scripted to collect the weather information in 4 parts of the city, including the area where the study was conducted. The sensors collected data each minute, while the weather poll collected every 10 minutes. <font>**Results:**</font> A week's worth of data was consumed using Panda. We found the weather fluctuates from one part of the city to another, and the humidity was negatively correlated to the temperature. Concerning indoors, the environmental elements in each room varied significantly and the humidity was weakly negatively correlated to the temperature. The hottest room we determined to be filled with electronics and had a window facing the sun - of which only minimal window covering was present. The coldest room was found to stay generally 2 degrees cooler than the remaining rooms. The ventilation system was overcooling 1 room, in order to manage the temperature in the hottest room. On a positive note, the range of humidity values collected internally showed the a/c is effective in removing humidity. As the temperature in the majority of rooms stayed at within a consistent range near the HVAC thermostat temperature setting, we see the a/c's ability to cool is acceptable.**The correlation between weather and internal environment for temp was 4.6% and the humidity was even less at 3%.** This confirms the effectiveness of the a/c cooling unit. <font>**Conclusions:**</font> A big ticket HVAC expenditure is not needed at this time. By restricting the amount of direct sunlight on the hottest room, engaging a dehumidifier near the thermostat, and restricting the ventilation going to the coldest room, we are hoping to balance the rates at which each room cools and reduce the amount of time the a/c is engaged. "
   ]
  },
  {
   "cell_type": "markdown",
   "metadata": {},
   "source": [
    "\n",
    "    \n",
    "## <font size=5 color=gray>Notebook Purpose: </font><font color=darkblue>Process and Present Data using Pandas </font><font color=darkblue> including:</font>\n",
    "<font color=white size=1>==========================================================================================================================================================================</font>\n",
    "<font size=2  color=gray>> using </font><font color=darkblue>**JSON, Lists, Dictionaries, Loops, Dictionary Writer, Z-scores with SciPy and Visualizing with MatPlotLib**</font>\n",
    "<font color=white size=1>==========================================================================================================================================================================</font>\n",
    "<font size=2  color=gray> via ugly colors and links.</font>\n",
    "<a href ='#top'>Jump to Table of Contents</a>&nbsp;&nbsp;&nbsp;&nbsp;&nbsp;&nbsp;<a> \n",
    "\n",
    "### <a id='top'></a>\n",
    "<font color=black size=1>=============================================================================================================</font>\n",
    "### <font size=5 color=darkpink>Table of Contents</font>\n",
    "<font color=black size=1>=============================================================================================================</font>\n",
    "\n",
    "<a href='#methods'><font color=darkpink>**Methods**</font></a>\n",
    "\n",
    "<a href='#section1'><font color=darkblue>**Section1:     Process Atlanta weather data (External Data)**</font></a>\n",
    "\n",
    "<a href='#sec1pt1'>Part 1 - Read in raw JSON, write out CSV spreadsheet</a>\n",
    "\n",
    "<a href='#sec1pt2'>Part 2 - Review Weather MetaData</a>\n",
    "\n",
    "<a href='#sec1pt3'>Part 3 - Data Edits - Format DATES</a>\n",
    "\n",
    "<a href='#sec1pt4'>Part 4 - Breakout DataFrames by Location</a>\n",
    "\n",
    "<a href='#sec1pt5'>Part 5 - Visualize Weather Data for Completeness</a>\n",
    "\n",
    "<a href='#section2'><font color=darkblue>**Section2:     Process Home climate (Internal Data)**</font></a>\n",
    "\n",
    "<a href='#sec2pt1'>Part 1 - Read, write and remove dups from Environment Data CSV spreadsheet</a>\n",
    "\n",
    "<a href='#sec2pt2'>Part 2 - Review Environment Data current state</a>\n",
    "\n",
    "<a href='#sec2pt3'>Part 3 - Renaming Columns and Replacing Data</a>\n",
    "\n",
    "<a href='#sec2pt4'>Part 4 - Visualize and Assess Environment Data</a>\n",
    "\n",
    "<a href='#results'><font color=darkpink>**Results**</font></a>\n",
    "\n",
    "<a href='#sec3pt1'>Part 1 - Present Weather findings</a>\n",
    "\n",
    "<a href='#sec3pt2'>Part 2 - Present Environment findings</a>\n",
    "\n",
    "<a href='#sec3pt3'>Part 3 - Present Environment Correlations findings</a>\n",
    "\n",
    "<a href='#conclusions'><font color=darkpink>**Conclusions**</font></a>\n",
    "\n",
    "<a href='#section4'><font color=darkblue>**Section1:    Comparative Analysis**</font></a>\n",
    "\n",
    "<a href='#sec4pt2'><font color=darkblue>**Section2:     Conclusions**</font></a>\n",
    "\n",
    "<a href='#sec4pt3'><font color=darkblue>**Section3:     Limitations and Future Plans**</font></a>"
   ]
  },
  {
   "cell_type": "markdown",
   "metadata": {},
   "source": [
    "<a id='methods'></a>\n",
    "<font color=black size=1>=============================================================================================================</font>\n",
    "\n",
    "\n",
    "<font color=darkpink size=10>Methods</font>\n",
    "\n",
    "<font color=black size=1>=============================================================================================================</font>\n",
    "\n",
    "<a href ='#top'>Jump to Table of Contents</a>"
   ]
  },
  {
   "cell_type": "markdown",
   "metadata": {},
   "source": [
    "<font color=black>This project is part of an larger, ongoing IOT project. In particular, where the sensors could be monitoring a warehouse to assist in environmental controls. \n",
    "    \n",
    "**Initial development**\n",
    "\n",
    "The home was chosen a location for proof of concept, with zero cost and complete control over location. The idea was to complete P.O.C. and then build to incorporate additional robust sophistication when implementing in larger or more complex locations where the environment needs managing. Sensors more accurate than the ones we chose were considered cost prohibitive and overly complex for a P.O.C using ARM microcomputers (the Raspberry PI). Eventually this proof of concept functionality will be absorbed by the larger, ongoing IOT project.\n",
    "\n",
    "\n",
    "<font size=10 color=white></font>\n",
    "**Locations**\n",
    "\n",
    "As mentioned, testing in a home had the highest utility, in terms of cost and usage. At the time of this project, acquiring access to a warehouse remained pending and considered out of reach. Other IOT projects that tied into the larger IOT project were tested and demonstrated in an office complex presentation room. This too, was considered to be out of reach. Concerning the weather, 4 parts of Atlanta were tracked, The north side of the perimeter, Marietta, Stone Mountain and downtown at the Coca-Cola Olympic Village. The rational was taking a radius between the home and the downtown Capitol and extending east and west.Latitude and Longitude were captured as well as weather information, for later use in visualizing the location (if desired), allowing for exact determination of where the weather was being extracted. \n",
    "\n",
    "**Measures**\n",
    "\n",
    "The sensors were not calibrated. Upon initial activation of the sensor, the data captured was compared to a true thermostat. Any sensor reporting temperature measurements beyond 5 celsius were discarded and replaced. We found a high correspondence between the accuracy of reported temp and the accuracy of reported humidity. Restating, we found when a sensor reported an unacceptable temperature, we found the humidity was also highly disperate. Take note, the DHT22 sensor, which is more accurate than the DHT11 sensor, requires a 10K resistor to keep the microcomputer port current from impacting the reported signal - the reported temp and humidity. The additional cost was less than .01 (actual cost is 2.00 - as buying resistors in bulk is cheaper than purchasing individually).\n",
    "\n",
    "\n",
    "**Hardware Specifics** compliments of https://www.mouser.com/ds/2/737/dht-932870.pdf and https://www.raspberrypi.org/products/raspberry-pi-3-model-b-plus/\n",
    "\n",
    "**DHT-11**\n",
    "\n",
    "3 to 5V power\n",
    "\n",
    "O2.5mA max current(while requesting data)\n",
    "\n",
    "humidity readings with 5% accuracy\n",
    "\n",
    "temperature readings ±2°C accuracy\n",
    "\n",
    "No more than 1 Hz sampling rate (once every second)\n",
    "\n",
    "Body size 15.5mm x 12mm x 5.5mm\n",
    "\n",
    "**DHT-22**\n",
    "\n",
    "3 to 5V power\n",
    "\n",
    "O2.5mA max current(while requesting data)\n",
    "\n",
    "humidity readings with ±2% accuracy\n",
    "\n",
    "temperature readings ±0.5°C accuracy\n",
    "\n",
    "No more than 1 Hz sampling rate (once every second)\n",
    "\n",
    "Body size 15.5mm x 12mm x 5.5mm"
   ]
  },
  {
   "cell_type": "markdown",
   "metadata": {},
   "source": [
    "<a id='section1'></a>\n",
    "# <font color=darkpink>Section 1: Process Atlanta weather data (External data)</font>\n",
    "<a href ='#top'>Jump to Table of Contents</a>"
   ]
  },
  {
   "cell_type": "markdown",
   "metadata": {},
   "source": [
    "## <font color=darkblue>Part 1 - Read in raw JSON, write out CSV spreadsheet</font>\n",
    "<font color=gray>step 1 - Edit check for valid JSON format.</font>\n",
    "<a id='sec1pt1'></a>\n",
    "\n",
    "<a href ='#top'>Jump to Table of Contents</a>"
   ]
  },
  {
   "cell_type": "code",
   "execution_count": null,
   "metadata": {
    "pixiedust": {
     "displayParams": {}
    }
   },
   "outputs": [],
   "source": [
    "import csv as csv\n",
    "import json\n",
    "from pandas.io.json import json_normalize\n",
    "import matplotlib\n",
    "import matplotlib.pyplot as plt\n",
    "import os\n",
    "import pandas as pd\n",
    "import seaborn as sns\n",
    "from scipy import stats\n",
    "from matplotlib import style\n",
    "#------------------------------------------------#\n",
    "# Set processing parameters and directives\n",
    "#------------------------------------------------#\n",
    "matplotlib.use('nbagg')\n",
    "style.use('ggplot')\n",
    "%matplotlib inline\n",
    "plt.rcParams['figure.figsize'] = (16,12)\n",
    "plt.rcParams['font.size'] = 8\n",
    "#------------------------------------------------#\n",
    "# Set the appropriate path\n",
    "#------------------------------------------------#\n",
    "home_path = 'C:\\\\users\\\\bucbo_000\\\\Desktop'\n",
    "\n",
    "if os.path.isdir(home_path):\n",
    "    os.chdir(home_path)\n",
    "else:\n",
    "    home_path='./'\n",
    "\n",
    "\n",
    "#------------------------------------------------#\n",
    "#Open files for JSON read and write LIST\n",
    "#------------------------------------------------#\n",
    "data_file = open('weather_collect.txt', \"r\", encoding = 'utf-8')     \n",
    "\n",
    "#-------------------------------------------------#\n",
    "# Convert json to list of dictionaries, then parse accordingly\n",
    "# IF JSON is INVALID - the json.loads will error. We\n",
    "# trap the error and simply move onto the next record.\n",
    "#-------------------------------------------------#\n",
    "\n",
    "f1 = data_file.readlines()\n",
    "my_df = list()\n",
    "for x in f1:\n",
    "    try:\n",
    "        data = json.loads(x) \n",
    "        df = data\n",
    "        my_df.append(df)\n",
    "    except:\n",
    "        print(\"skipping: JSON format invalid for:\", x)"
   ]
  },
  {
   "cell_type": "markdown",
   "metadata": {},
   "source": [
    "<font color=gray>step 2 - Write valid data to list of dictionaries for consumption by dictionary writer, a child class of cvs module.</font>\n",
    "\n",
    "<a href ='#top'>Jump to Table of Contents</a>"
   ]
  },
  {
   "cell_type": "code",
   "execution_count": null,
   "metadata": {},
   "outputs": [],
   "source": [
    "#------------------------------------------------#\n",
    "# Define output file and header line\n",
    "#------------------------------------------------#\n",
    "with open('weather.csv', 'w', newline='') as csvfile:\n",
    "    fieldnames = ['sysdate', 'loc', 'temp', 'hum','forecast', 'lat', 'lon']\n",
    "# This opens the `DictWriter`.\n",
    "    writer = csv.DictWriter(csvfile, fieldnames=fieldnames)\n",
    "#\n",
    "# Write out the header row (this only needs to be done once!).\n",
    "    writer.writeheader()\n",
    "#------------------------------------------------#\n",
    "# Read in, Write out and Loop \n",
    "#------------------------------------------------#\n",
    "    for a_df in my_df:\n",
    "        try:\n",
    "            writer.writerow(a_df)\n",
    "        except:\n",
    "            print(\"Unable to parse, skipping record...\")"
   ]
  },
  {
   "cell_type": "markdown",
   "metadata": {},
   "source": [
    "<font color=gray>step 3 - Build DataFrame from list of dictionaries.</font>\n",
    "\n",
    "<a href ='#top'>Jump to Table of Contents</a>"
   ]
  },
  {
   "cell_type": "code",
   "execution_count": null,
   "metadata": {},
   "outputs": [],
   "source": [
    "ext_df = pd.read_csv(home_path + \"\\\\weather.csv\", usecols=range(0,5)) "
   ]
  },
  {
   "cell_type": "markdown",
   "metadata": {},
   "source": [
    "<a id='sec1pt2'></a>\n",
    "## <font color=darkblue>Part 2 - Review Weather MetaData.</font>\n",
    "\n",
    "<a href ='#top'>Jump to Table of Contents</a>\n",
    "\n",
    "<font color=gray>step 1 - Show DataFrame sample</font>\n",
    "\n",
    "    \n",
    "<font size=5 color=blue>Table 1a. displays a random sampling of the weather data collected</font>"
   ]
  },
  {
   "cell_type": "code",
   "execution_count": null,
   "metadata": {},
   "outputs": [],
   "source": [
    "ext_df.sample(n=10)"
   ]
  },
  {
   "cell_type": "markdown",
   "metadata": {},
   "source": [
    "<font color=gray>step 2 - Review summary of weather data collected.<font>\n",
    "    \n",
    "<font size=5 color=blue>Table 1b. summarizes the mean temperature by location and forecast</font>"
   ]
  },
  {
   "cell_type": "code",
   "execution_count": null,
   "metadata": {},
   "outputs": [],
   "source": [
    "a = ext_df.groupby(['loc', 'forecast'])['temp'].mean().unstack().dropna(axis=1)\n",
    "a"
   ]
  },
  {
   "cell_type": "markdown",
   "metadata": {},
   "source": [
    "<font color=gray>step 3 - Review content metadata stats.</font>\n",
    "\n",
    "<a href ='#top'>Jump to Table of Contents</a>\n",
    "\n",
    "<font size=5 color=blue>Table 1c. displays the weather ***metadata*** statistics</font>"
   ]
  },
  {
   "cell_type": "code",
   "execution_count": null,
   "metadata": {},
   "outputs": [],
   "source": [
    "print(\"------------------------------------\")\n",
    "print(\"Weather Data has \", ext_df.shape[0], \"Rows and\", ext_df.shape[1], \"Columns of types:\")\n",
    "print(\"------------------------------------\")\n",
    "print(ext_df.dtypes)\n",
    "print(\" \")\n",
    "print(\"------------------------------------\")\n",
    "print(f\"Weather Data nulls search:\")\n",
    "print(\"------------------------------------\")\n",
    "print(ext_df.isnull().sum())\n",
    "print(\" \")\n",
    "print()\n",
    "print(\"------------------------------------\")\n",
    "print(f\"Weather Data counts (raw)\")\n",
    "print(\"------------------------------------\")\n",
    "for i in ext_df.columns:\n",
    "    print(\"The count for\", i, \"is\", ext_df[i].count())\n",
    "print(\" \")\n",
    "print(\"------------------------------------\")\n",
    "print(f\"Weather Data counts excluding nulls:\")\n",
    "print(\"------------------------------------\")\n",
    "print(ext_df.dropna().count())\n",
    "print(\" \")\n",
    "print(\"------------------------------------\")\n",
    "print(f\"Weather Data statistics:\")\n",
    "print(\"------------------------------------\")\n",
    "ext_df.describe([0])"
   ]
  },
  {
   "cell_type": "markdown",
   "metadata": {},
   "source": [
    "<font size=1 color=black>===============================================================================================================</font>\n",
    "## <font color=darkpink>Clean the weather data.</font>\n",
    "<font size=1 color=black>===============================================================================================================</font>"
   ]
  },
  {
   "cell_type": "markdown",
   "metadata": {},
   "source": [
    "### <font color=red>Discrepancy!</font><font color=darkgray> The </font><font color=darkorange>weather</font><font color=darkgray> humidity is in </font><font color=darkorange> percentages</font><font color=darkgray> while the </font><font color=blue> indoors </font><font color=darkgray> humidity is in </font><font color=blue>integers</font>"
   ]
  },
  {
   "cell_type": "markdown",
   "metadata": {},
   "source": [
    "<font color=gray>step 4 - Convert the humidity before moving on.</font>"
   ]
  },
  {
   "cell_type": "code",
   "execution_count": null,
   "metadata": {},
   "outputs": [],
   "source": [
    "ext_df['hum'] = (ext_df['hum'] * 100)\n"
   ]
  },
  {
   "cell_type": "markdown",
   "metadata": {},
   "source": [
    "<font color=gray>step 5 - Drop null weather data.</font>"
   ]
  },
  {
   "cell_type": "code",
   "execution_count": null,
   "metadata": {},
   "outputs": [],
   "source": [
    "ext_df.dropna(axis=0, inplace=True)"
   ]
  },
  {
   "cell_type": "markdown",
   "metadata": {},
   "source": [
    "<font color=gray>step 6 - Take sample and verify results.</font>"
   ]
  },
  {
   "cell_type": "code",
   "execution_count": null,
   "metadata": {},
   "outputs": [],
   "source": [
    "ext_df.sample(n=5)"
   ]
  },
  {
   "cell_type": "markdown",
   "metadata": {},
   "source": [
    "<a id='sec1pt3'></a>\n",
    "## <font color=darkblue>Part 3 - Format DATES and build indicies.</font>\n",
    "\n",
    "<a href ='#top'>Jump to Table of Contents</a>\n",
    "\n",
    "\n",
    "<font color=gray>step1 - Format the sysdate column to be a pandas DATE object</font>"
   ]
  },
  {
   "cell_type": "code",
   "execution_count": null,
   "metadata": {},
   "outputs": [],
   "source": [
    "ext_df['sysdate'] = pd.to_datetime(ext_df['sysdate'])"
   ]
  },
  {
   "cell_type": "markdown",
   "metadata": {},
   "source": [
    "<font color=gray>step 2 - Validate the DATE conversion worked.</font>\n",
    "\n",
    "<a href ='#top'>Jump to Table of Contents</a>"
   ]
  },
  {
   "cell_type": "code",
   "execution_count": null,
   "metadata": {},
   "outputs": [],
   "source": [
    "ext_df.dtypes"
   ]
  },
  {
   "cell_type": "markdown",
   "metadata": {},
   "source": [
    "<font color=gray>step 3 - Build index for visualization preparation</font>\n",
    "\n",
    "<a href ='#top'>Jump to Table of Contents</a>"
   ]
  },
  {
   "cell_type": "code",
   "execution_count": null,
   "metadata": {},
   "outputs": [],
   "source": [
    "ext_df.set_index(['sysdate'], inplace=True)"
   ]
  },
  {
   "cell_type": "markdown",
   "metadata": {},
   "source": [
    "<a id='sec1pt4'></a>\n",
    "## <font color=darkblue>Part 4 - Breakout DataFrames by Location.</font>\n",
    "\n",
    "<a href ='#top'>Jump to Table of Contents</a>"
   ]
  },
  {
   "cell_type": "markdown",
   "metadata": {},
   "source": [
    "<font color=gray>step 1 - Create new dataframes by location in city.</font>"
   ]
  },
  {
   "cell_type": "code",
   "execution_count": null,
   "metadata": {},
   "outputs": [],
   "source": [
    "ext_atl = ext_df[ext_df['loc'] == 'Atlanta Georgia']\n",
    "ext_marietta = ext_df[ext_df['loc'] == 'Big Chicken Marietta Georgia']\n",
    "ext_stonemtn = ext_df[ext_df['loc'] == 'Stone Mountain Park']\n",
    "ext_coke = ext_df[ext_df['loc'] == 'Coca-Cola Olympic Park']"
   ]
  },
  {
   "cell_type": "markdown",
   "metadata": {},
   "source": [
    "<font color=gray>step 2 - Take sub-group sample stat to ensure dataframes built correctly.</font>"
   ]
  },
  {
   "cell_type": "code",
   "execution_count": null,
   "metadata": {},
   "outputs": [],
   "source": [
    "ext_atl['forecast'].value_counts()"
   ]
  },
  {
   "cell_type": "markdown",
   "metadata": {},
   "source": [
    "<a id='sec1pt5'></a>\n",
    "## <font color=darkblue>Part 5 - Visualize External Data for Completeness.</font>\n",
    "\n",
    "<a href ='#top'>Jump to Table of Contents</a>"
   ]
  },
  {
   "cell_type": "markdown",
   "metadata": {},
   "source": [
    "<font color=gray>step 1 - Breakout external data by groups</font>"
   ]
  },
  {
   "cell_type": "code",
   "execution_count": null,
   "metadata": {},
   "outputs": [],
   "source": [
    "ext_df.drop(columns = ['forecast']).groupby(['loc']).count()\n"
   ]
  },
  {
   "cell_type": "markdown",
   "metadata": {},
   "source": [
    "<font color=gray>step 3 - Merge external data groups</font>"
   ]
  },
  {
   "cell_type": "code",
   "execution_count": null,
   "metadata": {},
   "outputs": [],
   "source": [
    "ow = ext_atl.join(ext_marietta, how='left', lsuffix='_atl', rsuffix='_marietta')\n",
    "sw = ext_coke.join(ext_stonemtn, how='left', lsuffix='_coke', rsuffix='_stnmtn')\n",
    "outside = ow.join(sw, how='left')\n",
    "outside.sort_index(inplace=True)"
   ]
  },
  {
   "cell_type": "markdown",
   "metadata": {},
   "source": [
    "<font color=gray>step 4 - Do basic plot as a test</font>\n",
    "\n",
    "### <font color = blue size=5>Figure 1a - Initial display of weather temp and humidity</font>\n",
    "\n",
    " <font color=purple size=4> This actually discloses a lot, but we avoid details, as we stay on track of presentation.</font>"
   ]
  },
  {
   "cell_type": "code",
   "execution_count": null,
   "metadata": {},
   "outputs": [],
   "source": [
    "outside.plot(figsize=(22,11))"
   ]
  },
  {
   "cell_type": "markdown",
   "metadata": {},
   "source": [
    "\n",
    "### <font color = blue size=5>Figure 1b - Same data as figure 1b, but smoothed with rolling mean</font>"
   ]
  },
  {
   "cell_type": "code",
   "execution_count": null,
   "metadata": {},
   "outputs": [],
   "source": [
    "ext_df['avg_temp'] = ext_atl['temp'].rolling(10).mean().dropna()\n",
    "ext_df['avg_hum'] = ext_atl['hum'].rolling(10).mean().dropna()\n",
    "ax = ext_df['avg_hum'].plot()\n",
    "ax1 = ext_df['avg_temp'].plot(ax = ax, figsize=(22,11))"
   ]
  },
  {
   "cell_type": "markdown",
   "metadata": {},
   "source": [
    "<font color=gray>step 5 - Present external temperatures.</font>\n",
    "\n",
    "### <font color = blue size=5>Figure 1c - Initial display of weather temp</font>"
   ]
  },
  {
   "cell_type": "code",
   "execution_count": null,
   "metadata": {},
   "outputs": [],
   "source": [
    "outside.drop(columns=['hum_atl', 'hum_coke','hum_stnmtn', 'hum_marietta']).plot(figsize=(22,11))"
   ]
  },
  {
   "cell_type": "markdown",
   "metadata": {},
   "source": [
    "<font color=gray>step 6 - Present external humidities.</font>\n",
    "\n",
    "### <font color = blue size=5>Figure 1d - Initial display of weather humidity</font>"
   ]
  },
  {
   "cell_type": "code",
   "execution_count": null,
   "metadata": {},
   "outputs": [],
   "source": [
    "outside.drop(columns=['temp_atl', 'temp_coke','temp_stnmtn', 'temp_marietta']).plot(figsize=(22,11))"
   ]
  },
  {
   "cell_type": "markdown",
   "metadata": {},
   "source": [
    "<a id='section2'></a>\n",
    "# <font color=darkpink>Section 2: Process Home climate (Internal Data)</font>\n",
    "<a href ='#top'>Jump to Table of Contents</a>\n"
   ]
  },
  {
   "cell_type": "markdown",
   "metadata": {},
   "source": [
    "### <a id='sec2pt1'></a>\n",
    "## <font color=darkblue>Part 1 - Read, write and remove dups from environment data csv spreadsheet</font>\n",
    "\n",
    "\n",
    "<a href ='#top'>Jump to Table of Contents</a>\n",
    "\n",
    "<font color=gray>step 1 - Edit and Build step combined - See Section 1 for step by step details</font>\n"
   ]
  },
  {
   "cell_type": "code",
   "execution_count": null,
   "metadata": {},
   "outputs": [],
   "source": [
    "import csv as csv\n",
    "import datetime\n",
    "import json\n",
    "from pandas.io.json import json_normalize\n",
    "import matplotlib\n",
    "import matplotlib.pyplot as plt\n",
    "import os\n",
    "import pandas as pd\n",
    "import seaborn as sns\n",
    "\n",
    "# Set the appropriate path\n",
    "\n",
    "#------------------------------------------------#\n",
    "# Set processing parameters and directives\n",
    "#------------------------------------------------#\n",
    "matplotlib.use('nbagg')\n",
    "%matplotlib inline\n",
    "plt.rcParams['figure.figsize'] = (16,12)\n",
    "plt.rcParams['font.size'] = 8\n",
    "#------------------------------------------------#\n",
    "# Set the appropriate path\n",
    "#------------------------------------------------#\n",
    "\n",
    "\n",
    "home_path = 'C:\\\\users\\\\bucbo_000\\\\Desktop'\n",
    "\n",
    "if os.path.isdir(home_path):\n",
    "    os.chdir(home_path)\n",
    "else:\n",
    "    home_path='./'\n",
    "    \n",
    "#Open files for read and write - write headings first\n",
    "data_file = open('mqtt.txt', \"r\", encoding = 'utf-8')     \n",
    "\n",
    "# Convert json to list of dictionaries, then parse accordingly\n",
    "\n",
    "f1 = data_file.readlines()\n",
    "my_df = list()\n",
    "for x in iter(f1):\n",
    "    try:\n",
    "        data = json.loads(x)\n",
    "        df = data #json_normalize(data)\n",
    "        my_df.append(df)\n",
    "    except:\n",
    "        print(\"skipping: JSON format invalid for:\", x)\n",
    "        \n",
    "cnt_accept = 0\n",
    "cnt_reject =0\n",
    "content_df = list()\n",
    "for i in enumerate(my_df):\n",
    "     for k,v in enumerate(i):\n",
    "        #print(i)\n",
    "        #print(\"v=\", v)\n",
    "        #if str(v).startswith('{\\'device') and \"loc\" in str(v):\n",
    "        if \"env\" not in str(i):\n",
    "            content_df.append(my_df)\n",
    "            cnt_accept +=1\n",
    "        else:\n",
    "            print(\"skipping: JSON content invalid\")\n",
    "            cnt_reject +=1\n",
    "            \n",
    "print(\"We now have\", cnt_accept, \"records to use after cleaning\",cnt_reject, \"rows\")\n",
    "\n",
    "cnt_accept = 0\n",
    "cnt_reject = 0\n",
    "\n",
    "# Define output file and header line\n",
    "with open('mqtt.csv', 'w', newline='') as csvfile:\n",
    "    fieldnames = ['device','sysdate', 'temp', 'hum', 'state']\n",
    "# This opens the `DictWriter`.\n",
    "    writer = csv.DictWriter(csvfile, fieldnames=fieldnames)\n",
    "#\n",
    "# Write out the header row (this only needs to be done once!).\n",
    "    writer.writeheader()\n",
    "#\n",
    "# Read in, Write out and Loop \n",
    "#\n",
    "    for a_df in my_df:\n",
    "        try:\n",
    "            writer.writerow(a_df)\n",
    "            cnt_accept += 1\n",
    "        except:\n",
    "            print(\"Unable to parse, skipping...\")\n",
    "            cnt_reject += 1\n",
    "\n",
    "print(\"We now have\", cnt_accept, \"Dictionary records to use after cleaning\",cnt_reject, \"rows\")\n",
    "\n",
    "\n",
    "int_df = pd.read_csv(home_path + \"\\\\mqtt.csv\", usecols=range(0,4)) \n",
    "\n",
    "#######################################################\n",
    "#\n",
    "int_df = int_df.drop_duplicates()\n",
    "#\n",
    "#######################################################\n",
    "\n",
    "int_df['sysdate'] = pd.to_datetime(int_df['sysdate'])"
   ]
  },
  {
   "cell_type": "markdown",
   "metadata": {},
   "source": [
    "<a id='sec2pt2'></a>\n",
    "## <font color=darkblue>Part 2 - Review Environment Metadata</font>\n",
    "\n",
    "<a href ='#top'>Jump to Table of Contents</a>\n",
    "\n",
    "<font color=gray>step 1 - Review and assess.</font>"
   ]
  },
  {
   "cell_type": "code",
   "execution_count": null,
   "metadata": {},
   "outputs": [],
   "source": [
    "print(\"------------------------------------\")\n",
    "print(\"Environment Data has \", int_df.shape[0], \"Rows and\", int_df.shape[1], \"Columns of types:\")\n",
    "print(\"------------------------------------\")\n",
    "print(int_df.dtypes)\n",
    "print(\" \")\n",
    "print(\"------------------------------------\")\n",
    "print(f\"Environment Data nulls search:\")\n",
    "print(\"------------------------------------\")\n",
    "print(int_df.isnull().sum())\n",
    "print(\" \")\n",
    "print(\"------------------------------------\")\n",
    "print(f\"Environment Data counts (raw)\")\n",
    "print(\"------------------------------------\")\n",
    "for i in int_df.columns:\n",
    "    print(\"The count for\", i, \"is\", int_df[i].count())\n",
    "print(\"------------------------------------\")\n",
    "print(f\"Environment Data counts:\")\n",
    "print(\"------------------------------------\")\n",
    "print(int_df.dropna().count())\n",
    "print(\" \")\n",
    "print(\"------------------------------------\")\n",
    "print(f\"Environment Data statistics:\")\n",
    "print(\"------------------------------------\")\n",
    "int_df.describe()\n",
    "print(f\"device cardinality:\", int_df['device'].value_counts())\n",
    "print(f\"temp mean:\", int_df['temp'].value_counts().mean())\n",
    "print(f\"humidity mean:\", int_df['hum'].value_counts().mean())"
   ]
  },
  {
   "cell_type": "markdown",
   "metadata": {},
   "source": [
    "<font color=gray>step 2a - Review temp for outliers</font>\n",
    "\n",
    "### <font color = blue size=5>Table 2a - Initial display of environmental temp</font>"
   ]
  },
  {
   "cell_type": "code",
   "execution_count": null,
   "metadata": {},
   "outputs": [],
   "source": [
    "int_df['temp'].plot()\n",
    "new_df = int_df.copy()"
   ]
  },
  {
   "cell_type": "markdown",
   "metadata": {},
   "source": [
    "<font color=gray>step 2b - Clean up outliers</font>\n",
    "\n",
    "## <font color=blue>Notice</font><font color=purple> the wide swing in </font><font color=red>temp </font><font color=purple> ranges. Let's use Z-Score and clean up the temp outliers."
   ]
  },
  {
   "cell_type": "code",
   "execution_count": null,
   "metadata": {},
   "outputs": [],
   "source": [
    "print(abs(stats.zscore(int_df['temp'])).min())\n",
    "print(abs(stats.zscore(int_df['temp'])).mean())\n",
    "print(abs(stats.zscore(int_df['temp'])).std())\n",
    "print(abs(stats.zscore(int_df['temp'])).max())\n",
    "int_df = int_df[abs(stats.zscore(int_df['temp'])) < 2.0]"
   ]
  },
  {
   "cell_type": "markdown",
   "metadata": {},
   "source": [
    "<font color=gray>step 2c - Review new data</font>"
   ]
  },
  {
   "cell_type": "code",
   "execution_count": null,
   "metadata": {},
   "outputs": [],
   "source": [
    "print(\"------------------------------------\")\n",
    "print(\"Environment Data statistics:\")\n",
    "print(\"------------------------------------\")\n",
    "int_df.describe()"
   ]
  },
  {
   "cell_type": "markdown",
   "metadata": {},
   "source": [
    "<font color=gray>step 2d - Clean up outliers</font>\n",
    "\n",
    "## <font color=blue>Notice</font><font color=purple> the wide swing in </font><font color=red>hum </font><font color=purple> ranges. Let's use Z-Score and clean up the hum outliers."
   ]
  },
  {
   "cell_type": "code",
   "execution_count": null,
   "metadata": {},
   "outputs": [],
   "source": [
    "print(abs(stats.zscore(int_df['hum'])).min())\n",
    "print(abs(stats.zscore(int_df['hum'])).mean())\n",
    "print(abs(stats.zscore(int_df['hum'])).std())\n",
    "print(abs(stats.zscore(int_df['hum'])).max())\n",
    "int_df = int_df[abs(stats.zscore(int_df['hum'])) < 2.0 ]"
   ]
  },
  {
   "cell_type": "markdown",
   "metadata": {},
   "source": [
    "<font color=gray>step 2e - Review new data</font>"
   ]
  },
  {
   "cell_type": "code",
   "execution_count": null,
   "metadata": {},
   "outputs": [],
   "source": [
    "print(\"------------------------------------\")\n",
    "print(\"Environment Data statistics:\")\n",
    "print(\"------------------------------------\")\n",
    "int_df.describe()"
   ]
  },
  {
   "cell_type": "markdown",
   "metadata": {},
   "source": [
    "<a id='sec2pt3'></a>\n",
    "## <font color=darkblue>Part 3 - Rename columns, replace data and build index.</font>\n",
    "\n",
    "<a href ='#top'>Jump to Table of Contents</a>\n",
    "\n",
    "\n",
    "<font color=gray>step 1 - Change devices to match room location</font>"
   ]
  },
  {
   "cell_type": "code",
   "execution_count": null,
   "metadata": {},
   "outputs": [],
   "source": [
    "int_df.replace({'device': {'B8:27:EB:76:5F:45': 'Living Room', 'B8:27:EB:2D:40:28': 'Master Bedroom', 'B8:27:EB:37:B0:F8': 'Guest Bedroom', 'B8:27:EB:A9:D4:C2': 'Kitchen'}}, inplace=True)"
   ]
  },
  {
   "cell_type": "markdown",
   "metadata": {},
   "source": [
    "<font color=gray>step 2 - COLUMN renaming step to make columns meaningful\"</font>"
   ]
  },
  {
   "cell_type": "code",
   "execution_count": null,
   "metadata": {},
   "outputs": [],
   "source": [
    "#int_df.rename(columns={'state': 'forecast'},inplace=True)\n",
    "int_df.rename(columns={'device': 'room'}, inplace=True)"
   ]
  },
  {
   "cell_type": "markdown",
   "metadata": {},
   "source": [
    "<font color=gray>step 3 - Set sysdate as index for internal data"
   ]
  },
  {
   "cell_type": "code",
   "execution_count": null,
   "metadata": {},
   "outputs": [],
   "source": [
    "int_df.set_index(['sysdate'], inplace=True)"
   ]
  },
  {
   "cell_type": "markdown",
   "metadata": {},
   "source": [
    "<a id='sec2pt4'></a>\n",
    "## <font color=darkblue>Part 4 - Breakout DataFrames by location.</font>\n",
    "\n",
    "<a href ='#top'>Jump to Table of Contents</a>"
   ]
  },
  {
   "cell_type": "markdown",
   "metadata": {},
   "source": [
    "<font color=gray>step 1 - Create new dataframes by device or internal location</font>\n",
    "### <font color=blue>As this is taken during the summer, we can assume any temp below 70 F is to be removed.</font>"
   ]
  },
  {
   "cell_type": "code",
   "execution_count": null,
   "metadata": {},
   "outputs": [],
   "source": [
    "mb = int_df[int_df['room'] == 'Master Bedroom']\n",
    "lr = int_df[int_df['room'] == 'Living Room']\n",
    "gb = int_df[int_df['room'] == 'Guest Bedroom']\n",
    "kt = int_df[int_df['room'] == 'Kitchen']\n",
    "#---------------------------------------------#\n",
    "# Deprecated with Z-scoring above\n",
    "#---------------------------------------------#\n",
    "#mb = mb[mb['temp'] > 69]\n",
    "#mb = mb[mb['temp'] < 90]\n",
    "#lr = lr[lr['temp'] > 69]\n",
    "#lr = lr[lr['temp'] < 90]\n",
    "#gb = gb[gb['temp'] > 69]\n",
    "#gb = gb[gb['temp'] < 90]\n",
    "#kt = kt[kt['temp'] > 69]\n",
    "#kt = kt[kt['temp'] < 90]"
   ]
  },
  {
   "cell_type": "markdown",
   "metadata": {},
   "source": [
    "<a id='sec2pt5'></a>\n",
    "## <font color=darkblue>Part 5 - Visualize and Assess Environment Data.</font>\n",
    "\n",
    "<a href ='#top'>Jump to Table of Contents</a>"
   ]
  },
  {
   "cell_type": "markdown",
   "metadata": {},
   "source": [
    "<font color=gray> step 1 - Display data counts by device</font>"
   ]
  },
  {
   "cell_type": "code",
   "execution_count": null,
   "metadata": {},
   "outputs": [],
   "source": [
    "int_df.groupby(['room']).count()\n"
   ]
  },
  {
   "cell_type": "markdown",
   "metadata": {},
   "source": [
    "<font color=gray>step 2 - Visualize the internal data's metadata\n",
    "    \n",
    "### <font color = blue size=5>Table 2b - Initial display of environment metadata with displays for location, temp, humidity.</font>"
   ]
  },
  {
   "cell_type": "code",
   "execution_count": null,
   "metadata": {},
   "outputs": [],
   "source": [
    "    for col in int_df.columns:\n",
    "        plot_data = int_df[col].dropna()\n",
    "        fig, ax = plt.subplots()\n",
    "        ax.plot(plot_data.index.values, plot_data.values, label=col)"
   ]
  },
  {
   "cell_type": "markdown",
   "metadata": {},
   "source": [
    "<font color=gray>step 3 - Merge internal data groups</font>"
   ]
  },
  {
   "cell_type": "code",
   "execution_count": null,
   "metadata": {},
   "outputs": [],
   "source": [
    "br = mb.join(gb, how='left',  lsuffix='_mstr', rsuffix='_guest')\n",
    "lk = lr.join(kt, how='left', lsuffix='_living', rsuffix='_kit')\n",
    "inside = br.join(lk, how='left')"
   ]
  },
  {
   "cell_type": "markdown",
   "metadata": {},
   "source": [
    "<font color=gray>step 4- Visualize internal data</font>\n",
    "\n",
    "### <font color = blue size=5>Table 2c - Cleaner environment temp with humidity</font>"
   ]
  },
  {
   "cell_type": "code",
   "execution_count": null,
   "metadata": {},
   "outputs": [],
   "source": [
    "inside.plot()"
   ]
  },
  {
   "cell_type": "markdown",
   "metadata": {},
   "source": [
    "<a id='results'></a>\n",
    "<font color=black size=1>=============================================================================================================</font>\n",
    "\n",
    "\n",
    "<font color=darkpink size=10>Results</font>\n",
    "\n",
    "<font color=black size=1>=============================================================================================================</font>\n",
    "\n",
    "<a href ='#top'>Jump to Table of Contents</a>"
   ]
  },
  {
   "cell_type": "markdown",
   "metadata": {},
   "source": [
    "A total of 4 sensors were used to tally the indoors environment. The kitchen (kt) and mstr bedroom (mb) sensors are using a DHT11 - so they're the least sensitive of all the other DHT-22 sensors. The sensors took reading every minute for at least 5 days straight. **The thermostat stayed fixed at 76 F, as a control.** \n",
    "\n",
    "**Identification of Items**\n",
    "The kitchen and master bedroom both have direct plumbing in them, which would lean towards having a higher room humidity count than rooms without plumbing. Unexplainably, the living room had a higher humidity count than did the kitchen. Both kitchen and masterbath were checked for leaks and none were found. Further research is needed to explain why the living room consistently had a higher humidity rate than the kitchen."
   ]
  },
  {
   "cell_type": "markdown",
   "metadata": {},
   "source": [
    "<a id='sec3pt1'></a>\n",
    "## <font color=darkblue>Part 1 - Present Weather Findings</font>\n",
    "\n",
    "\n",
    "<a href ='#top'>Jump to Table of Contents</a>\n",
    "\n",
    "<font color=gray>step 1 - Present humidity corresponding to temp.</font>\n",
    "\n",
    "    \n",
    "### <font color = blue size=5>Table 3a - Display of weather correlating humidity to temp.</font>"
   ]
  },
  {
   "cell_type": "code",
   "execution_count": null,
   "metadata": {},
   "outputs": [],
   "source": [
    "ax = ext_atl.plot(kind=\"scatter\", x='hum', y=\"temp\",label=\"ATL\", c='b')\n",
    "ax2 = ext_marietta.plot(kind=\"scatter\", x='hum', y=\"temp\",label=\"MAR\", c='orange', ax = ax)\n",
    "ax3 = ext_coke.plot(kind=\"scatter\", x='hum', y=\"temp\",label=\"COKE\", c='r' , ax = ax)\n",
    "ax4 = ext_stonemtn.plot(kind=\"scatter\", x='hum', y=\"temp\",label=\"STNMNT\", c='brown' , ax = ax)"
   ]
  },
  {
   "cell_type": "markdown",
   "metadata": {},
   "source": [
    "<font color=gray>step 2 - Show the weather elements standard deviations between parts of city</font>"
   ]
  },
  {
   "cell_type": "code",
   "execution_count": null,
   "metadata": {},
   "outputs": [],
   "source": [
    "print(\"######################################\")\n",
    "print(\"#Weather Standard Deviations between parts of the city.\")\n",
    "print(\"######################################\")\n",
    "print(\"# Keys: ext_atl      General ATL weather \")\n",
    "print(\"#       ext_coke     Coca-Cola Olypmic Village\")\n",
    "print(\"#       ext_marietta KFC 40' chicken in Marietta\")\n",
    "print(\"#       ext_stonemtn Stone Mountain Park, Stone Mtn., Ga.\")\n",
    "print(\"#\")\n",
    "print('# ext_atl      temp & hum standard deviation: {0:4.2f} \\t{1:4.2f}'.format(ext_atl['temp'].std(), ext_atl['hum'].std()))\n",
    "print('# ext_coke     temp & hum standard deviation: {0:4.2f} \\t{1:4.2f}'.format(ext_coke['temp'].std(), ext_coke['hum'].std()))\n",
    "print('# ext_marietta temp & hum standard deviation: {0:4.2f} \\t{1:4.2f}'.format(ext_marietta['temp'].std(), ext_marietta['hum'].std()))\n",
    "print('# ext_stonemtn temp & hum standard deviation: {0:4.2f} \\t{1:4.2f}'.format(ext_stonemtn['temp'].std(), ext_stonemtn['hum'].std()))\n"
   ]
  },
  {
   "cell_type": "markdown",
   "metadata": {},
   "source": [
    "<font color=gray>step 3 - Show the Weather correlation between parts of city</font>"
   ]
  },
  {
   "cell_type": "code",
   "execution_count": null,
   "metadata": {},
   "outputs": [],
   "source": [
    "print(\"######################################\")\n",
    "print(\"# External Environment Correlation Information.\")\n",
    "print(\"######################################\")\n",
    "print(\"# Keys: ext_atl      General ATL weather \")\n",
    "print(\"#       ext_coke     Coca-Cola Olypmic Village\")\n",
    "print(\"#       ext_marietta KFC 40' chicken in Marietta\")\n",
    "print(\"#       ext_stonemtn Stone Mountain Park, Stone Mtn., Ga.\")\n",
    "print(\"#\")\n",
    "print('# Correlate ext_atl to ext_coke     Temperature:{0:4.1f}%'.format(ext_atl.corrwith(ext_coke)[0] * 100))\n",
    "print('#                                   Humidity:{0:4.1f}%'.format(ext_atl.corrwith(ext_coke)[1] * 100))\n",
    "print(\"#\")\n",
    "print('# Correlate ext_atl to ext_marietta Temperature:{0:4.1f}%'.format(ext_atl.corrwith(ext_marietta)[0] * 100))\n",
    "print('#                                   Humidity:{0:4.1f}%'.format(ext_atl.corrwith(ext_marietta)[1] * 100))\n",
    "print(\"#\")\n",
    "print('# Correlate ext_atl to ext_stonemtn Temperature:{0:4.1f}%'.format(ext_atl.corrwith(ext_stonemtn)[0] * 100))\n",
    "print('#                                   Humidity:{0:4.1f}%'.format(ext_atl.corrwith(ext_stonemtn)[1] * 100))\n",
    "print(\"#\")"
   ]
  },
  {
   "cell_type": "markdown",
   "metadata": {},
   "source": [
    "<a id='sec3pt2'></a>\n",
    "## <font color=darkblue>Part 2 - Present Environment findings</font>\n",
    "\n",
    "\n",
    "<a href ='#top'>Jump to Table of Contents</a>\n",
    "\n",
    "<font color=gray>step 1 - Present humidity corresponding to temp.</font>\n",
    "\n",
    "    \n",
    "### <font color = blue size=5>Table 3b - Display of environment correlating humidity to temp.</font>"
   ]
  },
  {
   "cell_type": "code",
   "execution_count": null,
   "metadata": {},
   "outputs": [],
   "source": [
    "ax = mb.plot(kind=\"scatter\", x='hum', y=\"temp\",label=\"MSTR\", c='b')\n",
    "ax2 = lr.plot(kind=\"scatter\", x='hum', y=\"temp\",label=\"LIVING\", c='orange', ax = ax)\n",
    "ax3 = gb.plot(kind=\"scatter\", x='hum', y=\"temp\",label=\"GUEST\", c='r' , ax = ax)\n",
    "ax4 = kt.plot(kind=\"scatter\", x='hum', y=\"temp\",label=\"KITCHEN\", c='brown' , ax = ax)"
   ]
  },
  {
   "cell_type": "markdown",
   "metadata": {},
   "source": [
    "<font color=gray>step 2 - Show the environment elements standard deviations between parts of home</font>"
   ]
  },
  {
   "cell_type": "code",
   "execution_count": null,
   "metadata": {},
   "outputs": [],
   "source": [
    "print(\"######################################\")\n",
    "print(\"#Environment Standard Deviations between parts of the home.\")\n",
    "print(\"######################################\")\n",
    "print(\"# Keys: kt           Kitchen - nearest thermostat \")\n",
    "print(\"#       lr           Living Room\")\n",
    "print(\"#       mb           Master Bed\")\n",
    "print(\"#       gb           Guest Bed\")\n",
    "print(\"#\")\n",
    "print('# kt      temp & hum standard deviation: {0:4.2f} \\t{1:4.2f}'.format(kt['temp'].std(), kt['hum'].std()))\n",
    "print('# lr      temp & hum standard deviation: {0:4.2f} \\t{1:4.2f}'.format(lr['temp'].std(), lr['hum'].std()))\n",
    "print('# mb      temp & hum standard deviation: {0:4.2f} \\t{1:4.2f}'.format(mb['temp'].std(), mb['hum'].std()))\n",
    "print('# gb      temp & hum standard deviation: {0:4.2f} \\t{1:4.2f}'.format(gb['temp'].std(), gb['hum'].std()))"
   ]
  },
  {
   "cell_type": "markdown",
   "metadata": {},
   "source": [
    "<font color=gray>step 3 - Show the environment correlations between parts of home</font>"
   ]
  },
  {
   "cell_type": "code",
   "execution_count": null,
   "metadata": {},
   "outputs": [],
   "source": [
    "print(\"######################################\")\n",
    "print(\"#Environment Correlations between parts of the home.\")\n",
    "print(\"######################################\")\n",
    "print(\"# Keys: kt           Kitchen - nearest thermostat \")\n",
    "print(\"#       lr           Living Room\")\n",
    "print(\"#       mb           Master Bed\")\n",
    "print(\"#       gb           Guest Bed\")\n",
    "print(\"#\")\n",
    "print('# Correlate kt to lr     Temperature:{0:4.1f}%'.format(kt.corrwith(lr)[0] * 100))\n",
    "print('#                           Humidity:{0:4.1f}%'.format(kt.corrwith(lr)[1] * 100))\n",
    "print(\"#\")\n",
    "print('# Correlate kt to mb      Temperature:{0:4.1f}%'.format(kt.corrwith(mb)[0] * 100))\n",
    "print('#                            Humidity:{0:4.1f}%'.format(kt.corrwith(mb)[1] * 100))\n",
    "print(\"#\")\n",
    "print('# Correlate kt to gb      Temperature:{0:4.1f}%'.format(kt.corrwith(gb)[0] * 100))\n",
    "print('#                            Humidity:{0:4.1f}%'.format(kt.corrwith(gb)[1] * 100))\n",
    "print(\"#\")\n",
    "print('# Correlate mb to gb      Temperature:{0:4.1f}%'.format(mb.corrwith(gb)[0] * 100))\n",
    "print('#                            Humidity:{0:4.1f}%'.format(mb.corrwith(gb)[1] * 100))\n",
    "print(\"#\")\n",
    "print('# Correlate mb to lr      Temperature:{0:4.1f}%'.format(mb.corrwith(lr)[0] * 100))\n",
    "print('#                            Humidity:{0:4.1f}%'.format(mb.corrwith(lr)[1] * 100))\n",
    "print(\"#\")\n",
    "print('# Correlate gb to lr      Temperature:{0:4.1f}%'.format(gb.corrwith(lr)[0] * 100))\n",
    "print('#                            Humidity:{0:4.1f}%'.format(gb.corrwith(lr)[1] * 100))"
   ]
  },
  {
   "cell_type": "markdown",
   "metadata": {},
   "source": [
    "<a id='sec3pt3'></a>\n",
    "## <font color=darkblue>Part 3 - Present derived Weather Values</font>\n",
    "\n",
    "\n",
    "<a href ='#top'>Jump to Table of Contents</a>\n",
    "\n",
    "### <font color = blue size=5>Table 3c - Re-display the derived weather avg_data.</font>"
   ]
  },
  {
   "cell_type": "code",
   "execution_count": null,
   "metadata": {},
   "outputs": [],
   "source": [
    "ax = ext_df['avg_hum'].plot()\n",
    "ax1 = ext_df['avg_temp'].plot(ax = ax, figsize=(22,11))"
   ]
  },
  {
   "cell_type": "markdown",
   "metadata": {},
   "source": [
    "\n",
    "<a href ='#top'>Jump to Table of Contents</a>\n",
    "\n",
    "### <font color = blue size=5>Table 3d - Display HeatMap weather avg_data to reported_data.</font>\n",
    "##### <font color=purple>As stated in this document, no real value seen from using derived values.</font>"
   ]
  },
  {
   "cell_type": "code",
   "execution_count": null,
   "metadata": {},
   "outputs": [],
   "source": [
    "merged_df = ext_df.join(int_df, how='left', lsuffix='_out', rsuffix='_in')\n",
    "data=merged_df.corr()\n",
    "fig = plt.figure()\n",
    "ax = fig.add_subplot(111)\n",
    "#plt.matshow(data)\n",
    "alpha = ['temp_out', 'hum_out', 'avg_temp', 'avg_hum','temp_in', 'hum_in']\n",
    "cax = ax.matshow(data, interpolation='nearest')\n",
    "fig.colorbar(cax)\n",
    "\n",
    "ax.set_xticklabels([''] + alpha)\n",
    "ax.set_yticklabels([''] + alpha)\n",
    "\n",
    "plt.show()"
   ]
  },
  {
   "cell_type": "markdown",
   "metadata": {},
   "source": [
    "<a id='sec3pt4'></a>\n",
    "## <font color=darkblue>Part 4 - Present Composite of weather and environment</font>\n",
    "\n",
    "\n",
    "<a href ='#top'>Jump to Table of Contents</a>\n",
    "\n",
    "<font color=gray>step 1 - Present Composite Correlation Plot.</font>\n",
    "### <font color = blue size=5>Table 3e - Display of weather data merged with environment data.</font>"
   ]
  },
  {
   "cell_type": "code",
   "execution_count": null,
   "metadata": {},
   "outputs": [],
   "source": [
    "merged_df = ext_df.join(int_df, how='left', lsuffix='_out', rsuffix='_in')\n",
    "merged_df.plot()"
   ]
  },
  {
   "cell_type": "markdown",
   "metadata": {},
   "source": [
    "<font color=gray>step 2 - Present Composite Correlation stats.</font>"
   ]
  },
  {
   "cell_type": "code",
   "execution_count": null,
   "metadata": {},
   "outputs": [],
   "source": [
    "new_df['avg_temp_in'] = new_df['temp'].rolling(10).mean().dropna()\n",
    "new_df['avg_hum_in'] = new_df['hum'].rolling(10).mean().dropna()\n",
    "new_df = new_df[abs(stats.zscore(new_df['temp'])) < 2.0]\n",
    "print(abs(stats.zscore(new_df['hum'])).min())\n",
    "new_df = new_df[abs(stats.zscore(new_df['hum'])) < 2.0 ]\n",
    "new_df.replace({'device': {'B8:27:EB:76:5F:45': 'Living Room', 'B8:27:EB:2D:40:28': 'Master Bedroom', 'B8:27:EB:37:B0:F8': 'Guest Bedroom', 'B8:27:EB:A9:D4:C2': 'Kitchen'}}, inplace=True)\n",
    "new_df.rename(columns={'device': 'room'}, inplace=True)\n",
    "new_df.set_index(['sysdate'], inplace=True)\n",
    "merged_df = ext_df.join(new_df, how='left', lsuffix='_out', rsuffix='_in')\n",
    "merged_df.corr()\n"
   ]
  },
  {
   "cell_type": "markdown",
   "metadata": {},
   "source": [
    "<a id='conclusions'></a>\n",
    "<font color=black size=1>=============================================================================================================</font>\n",
    "\n",
    "\n",
    "<font color=darkpink size=10>Conclusions</font>\n",
    "\n",
    "<font color=black size=1>=============================================================================================================</font>\n",
    "\n",
    "<a href ='#top'>Jump to Table of Contents</a>"
   ]
  },
  {
   "cell_type": "markdown",
   "metadata": {},
   "source": [
    "<a id='section4'></a>\n",
    "# <font color=darkpink>Section 1: Comparative Analysis</font>\n",
    "<a href ='#top'>Jump to Table of Contents</a>"
   ]
  },
  {
   "cell_type": "markdown",
   "metadata": {},
   "source": [
    "<font color=gray>step 3 - Show the correlation between humidity and temp</font>"
   ]
  },
  {
   "cell_type": "code",
   "execution_count": null,
   "metadata": {},
   "outputs": [],
   "source": [
    "print(\"#---------------------------------#\")\n",
    "print(\"External temp correlation to forecast\")\n",
    "print(\"#---------------------------------#\")\n",
    "print(f\"External correlation:\",ext_df[['temp', 'forecast']].corr())\n",
    "print(\" \")\n",
    "print(f\"External covariance\", ext_df[['temp', 'forecast']].cov())\n",
    "print(\" \")\n",
    "print(\"#---------------------------------#\")\n",
    "print(\"External temp correlation to humidity\")\n",
    "print(\"#---------------------------------#\")\n",
    "print(f\"External correlation:\",ext_df[['temp', 'hum']].corr())\n",
    "print(\" \")\n",
    "print(f\"External covariance\", ext_df[['temp', 'hum']].cov())\n",
    "print(\" \")\n",
    "print(\"#---------------------------------#\")\n",
    "print(\"Internal temp correlation to humidity\")\n",
    "print(\"#---------------------------------#\")\n",
    "print(f\"Internal correlation\", int_df[['temp', 'hum']].corr())\n",
    "print(\" \")\n",
    "print(f\"Internal covariance\",  int_df[['temp', 'hum']].cov())\n",
    "print(\" \")\n",
    "print(\" \")\n",
    "print(\"#---------------------------------#\")\n",
    "print(\"Internal temp and humidity correlation to external temp and humidity\")\n",
    "print(\"#---------------------------------#\")\n",
    "ext_df.corrwith(int_df, axis=0)"
   ]
  },
  {
   "cell_type": "markdown",
   "metadata": {},
   "source": [
    "<font color=gray>step 2 Visualize internal and external variables.</font>\n",
    "\n",
    "    \n",
    "### <font color = blue size=5>Table 4a - Overlay of Weather and Environment correlating data.</font>"
   ]
  },
  {
   "cell_type": "code",
   "execution_count": null,
   "metadata": {},
   "outputs": [],
   "source": [
    "ax = mb.plot(kind=\"scatter\", x='hum', y=\"temp\",label=\"MSTR\", c='b', figsize = (22,11))\n",
    "ax2 = lr.plot(kind=\"scatter\", x='hum', y=\"temp\",label=\"LIVING\", c='orange', ax = ax)\n",
    "ax3 = gb.plot(kind=\"scatter\", x='hum', y=\"temp\",label=\"GUEST\", c='r' , ax = ax)\n",
    "ax4 = kt.plot(kind=\"scatter\", x='hum', y=\"temp\",label=\"KITCHEN\", c='brown' , ax = ax)\n",
    "ax5 = ext_atl.plot(kind=\"scatter\", x='hum', y=\"temp\",label=\"ATL\", c='green' , ax = ax)\n",
    "ax6 = ext_marietta.plot(kind=\"scatter\", x='hum', y=\"temp\",label=\"MARI\", c='purple' , ax = ax)\n",
    "ax7 = ext_stonemtn.plot(kind=\"scatter\", x='hum', y=\"temp\",label=\"STNMTN\", c='gray' , ax = ax)\n",
    "ax8 = ext_coke.plot(kind=\"scatter\", x='hum', y=\"temp\",label=\"COKE\", c='yellow' , ax = ax)"
   ]
  },
  {
   "cell_type": "markdown",
   "metadata": {},
   "source": [
    "<a id='sec4pt2'></a>\n",
    "# <font color=darkpink>Section 2: Conclusions</font>\n",
    "<a href ='#top'>Jump to Table of Contents</a>"
   ]
  },
  {
   "cell_type": "markdown",
   "metadata": {},
   "source": [
    "In this project, we used inexpensive parts to collect the indoor's temperature and humidity and queried darksky.net using the Python programming language for weather data. The weather information was only cleaned for missing data, assuming the api provider was sending credible data, whereas the internal data was cleaned using Z-scoring, allowing for 2 standard deviations. \n",
    "   The correlations found were consistent with general weather and environmental properties. Depending on the amount of data pulled, with 5 days being the minimum (yielding over 600 weather records  and over 7,000 environment records per day) , we found a **correlation of -. 91 between the external temperture and humidity. The indoor variables had a -.87 correlation between the external temperature and humidity**. Rolling averages on external temp and humidity were computed and graphed, but were found not to provide any additional insights. With the wide fluctuations on the weather's temp and humidity, we found the environment (internal) temp to remain within a narrow, consistent range of no more than -2 degrees difference between thermostat settings and actual indoor temperature. This suggests that the a/c cooling unit is working at expected capacity, but ventilation and other factors led to non-trivial disparity in cooling each room. **The disparity is supported by the composite correction stats showing only a 37% correlation between the temp indoors and the average temp indoors**(derived from a rolling mean).\n",
    "   **These findings suggest making indoor changes to improve cooling efficiencies, and that a stronger a/c unit would not yield any significant value**. Changes include reducing the amount of direct sunlight entering the room, restricting ventilation in rooms which cool below thermostat settings and adding a dehumidifier to supplement the a/c unit's work."
   ]
  },
  {
   "cell_type": "markdown",
   "metadata": {},
   "source": [
    "<a id='sec4pt3'></a>\n",
    "# <font color=darkpink>Section 3: Limitations and Future plans</font>\n",
    "<a href ='#top'>Jump to Table of Contents</a>"
   ]
  },
  {
   "cell_type": "markdown",
   "metadata": {},
   "source": [
    "We admit the accuracy of the indoor findings are not scientific by any means. None of the sensors were calibrated nor compared to each other. The only comparisons were against the thermostat. We ascribe credulity to the findings, as the data, although potentially off by 5%, presented consistent data. We were able to draw conclusions based on the relativity of day to day reporting staying within a narrow range. \n",
    "   About the graphs and information reported, I am not a data scientist, and my only relation to the math field is through Information Technology. I am sure I missed more important points and did not present the most appropriate material, but I was only after enough to validate whether the a/c was cooling properly and if room specific changes were needed to average out cooling the home, overall.\n",
    "   Not having to sink $5K into a new a/c system, I consider this a success. The next steps are to shrink the data collection elements, so they are plug and play, replace all dht-11 sensors with AM-312, DS18B20 or DHT-22 sensors The largest challenge lies in setting up the wifi on each collection device, although not arduous for setting up within a home, anything larger could prove to be task intensive. The end game is to deploy the solution to a warehouse and assist in tuning the warehouse environment to improve heating and cooling. Other plans are to set up agricultural solution, measuring both outside temp and inside a hothouse or nursery.\n",
    "   Another domestic, indoor test will commence with the onset of winter in order to study and maximize heating efficiencies."
   ]
  },
  {
   "cell_type": "code",
   "execution_count": null,
   "metadata": {},
   "outputs": [],
   "source": []
  }
 ],
 "metadata": {
  "kernelspec": {
   "display_name": "Python 3",
   "language": "python",
   "name": "python3"
  },
  "language_info": {
   "codemirror_mode": {
    "name": "ipython",
    "version": 3
   },
   "file_extension": ".py",
   "mimetype": "text/x-python",
   "name": "python",
   "nbconvert_exporter": "python",
   "pygments_lexer": "ipython3",
   "version": "3.7.1"
  }
 },
 "nbformat": 4,
 "nbformat_minor": 2
}
