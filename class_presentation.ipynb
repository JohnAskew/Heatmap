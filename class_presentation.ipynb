{
 "cells": [
  {
   "cell_type": "markdown",
   "metadata": {},
   "source": [
    "<a id='title'></a>\n",
    "# <bold><font color=gray>Jupyter App:</font><font color=darkpink> A Student's Analysis of his Domestic Thermal Footprint</font></bold>\n",
    "## <bold><font color=white>=================</font><font color=purple>Or, how the Raspberry Pi saved me $5,000.</font>"
   ]
  },
  {
   "cell_type": "markdown",
   "metadata": {},
   "source": [
    "## <font size=5 color=darkpink>Abstract:</font>\n",
    "\n",
    "Concerned with utility costs incurred during summer peak months, this project aimed to explore ways to stabilize and reduce cooling costs inside residential homes. Before making any financial commitments to upgrade cooling equipment, we investigated ways to improve efficiencies.  Lacking current information about the \"domestic thermal qualities\" or HVAC and insulation efficiencies, we set out to study the impact of the external environment on our home's a/c usage as well as to assess current a/c unit’s cooling abilities. The challenge was to make reliable assessments within a budget. The first objective was to evaluate the a/c cooling unit's effectiveness. The second objective was to determine if the overall goal could be met economically, by making small changes indoors to promote cooling effeciency in a substantial way. <font color=darkpink>**Methods**:</font> Raspberry Pi microcomputers were fitted with sensors to measure temperature and humidity and then stream the data to cloud. The sensors were a collection of DHT22 and DHT11 sensors, each recording temperature and humidity through the duration of the study. Separately, a weather polling service using python was scripted to record the weather information every 10 minutes, in 4 parts of the city, including the area where the residential study was conducted. <font color=darkpink>**Results:**</font> We found the temperature and humidity fluctuates widely from one part of the city to another, and that the humidity was negatively correlated with temperature. Concerning the indoors study, the temperature in the kitchen (M=77.3, S.D.=.75), the living room (M=77.1, SD=.83), the master bedroom (M=73.71, SD=.76) and the guest bedroom (M=79.3, SD=.60))** varied widely. A similar trend was observed with respect to humidity in the kitchen (M=47.1, SD=2.52), living room (M=48.9, SD=2.77), master bedroom (M=54.5, SD=2.02) and guest bedroom (M=46.4, SD=1.70). **Aggregating across all 4 rooms, humidity was weakly negatively correlated with temperature**. The highest temperatures were observed in a guestroom containing multiple electronic devices, including several computer servers, and this same room had a window facing the sun with minimal window covering. Given that the a/c control unit was attempting to achieve one stable temperature throughout the house, and that the coldest room was generally 2 degrees cooler than the remaining rooms, it appears that the ventilation system was overcooling 1 room in order to compensate for undercooling in the hottest room. On a positive note, the range of humidity values collected internally showed the a/c is effective in removing humidity (see heat index). As the temperature in the majority of rooms stayed at within a consistent range near the HVAC thermostat temperature setting, we see the a/c's ability to cool is acceptable..**The correlation between weather and internal environment for temp was 4.6% and the humidity was even less at 3%.** This confirms the effectiveness of the a/c cooling unit. <font color=darkpink>**Conclusions:**</font> A substantial HVAC expenditure is not needed at this time. Restricting the amount of direct sunlight on the hottest room, engaging a dehumidifier near the thermostat, and restricting the ventilation going to the coldest room, will likely balance the rates at which each room cools and reduce the amount of time the a/c is engaged and lead to substatial cost savings."
   ]
  },
  {
   "cell_type": "markdown",
   "metadata": {},
   "source": [
    "\n",
    "    \n",
    "## <font size=5 color=gray>Notebook Purpose: </font><font color=darkblue>Process and Present Data using Pandas </font><font color=darkblue> including:</font>\n",
    "<font color=white size=1>==========================================================================================================================================================================</font>\n",
    "<font size=2  color=gray>> using </font><font color=darkblue>**JSON, Lists, Dictionaries, Loops, Dictionary Writer, Z-scores with SciPy, Heat-Maps with Seaborn and Visualizing with MatPlotLib**</font>\n",
    "<font color=white size=1>==========================================================================================================================================================================</font>\n",
    "<font size=2  color=gray> via ugly colors and links.</font>\n",
    "<a href ='#top'>Jump to Table of Contents</a>&nbsp;&nbsp;&nbsp;&nbsp;&nbsp;&nbsp;<a> \n",
    "\n",
    "### <a id='top'></a>\n",
    "<font color=black size=1>=============================================================================================================</font>\n",
    "### <font size=5 color=darkpink>Table of Contents</font>\n",
    "<font color=black size=1>=============================================================================================================</font>\n",
    "\n",
    "<a href='#methods'><font color=darkpink>**Methods**</font></a>\n",
    "\n",
    "<a href='#section1'><font color=darkblue>**Section1:     Process Atlanta weather data**</font></a>\n",
    "\n",
    "<a href='#sec1pt1'>Part 1 - Read in raw JSON, write out CSV spreadsheet</a>\n",
    "\n",
    "<a href='#sec1pt2'>Part 2 - Review Weather MetaData</a>\n",
    "\n",
    "<a href='#sec1pt3'>Part 3 - Data Edits - Format DATES</a>\n",
    "\n",
    "<a href='#sec1pt4'>Part 4 - Breakout DataFrames by Location</a>\n",
    "\n",
    "<a href='#sec1pt5'>Part 5 - Visualize Weather Data for Completeness</a>\n",
    "\n",
    "<a href='#section2'><font color=darkblue>**Section2:     Process Home Environment (Internal Data)**</font></a>\n",
    "\n",
    "<a href='#sec2pt1'>Part 1 - Read, write and remove dups from Environment Data CSV spreadsheet</a>\n",
    "\n",
    "<a href='#sec2pt2'>Part 2 - Review Environment MetaData</a>\n",
    "\n",
    "<a href='#sec2pt3'>Part 3 - Renaming Columns and Replacing Data</a>\n",
    "\n",
    "<a href='#sec2pt4'>Part 4 - Visualize and Assess Environment Data</a>\n",
    "\n",
    "<a href='#results'><font color=darkpink>**Results**</font></a>\n",
    "\n",
    "<a href='#sec3pt1'>Part 1 - Present Weather findings</a>\n",
    "\n",
    "<a href='#sec3pt2'>Part 2 - Present Environment findings</a>\n",
    "\n",
    "<a href='#sec3pt3'>Part 3 - Present All Data together</a>\n",
    "\n",
    "<a href='#conclusions'><font color=darkpink>**Conclusions**</font></a>\n",
    "\n",
    "<a href='#section4'><font color=darkblue>**Section1:    Comparative Analysis**</font></a>\n",
    "\n",
    "<a href='#sec4pt2'><font color=darkblue>**Section2:     Conclusions**</font></a>\n",
    "\n",
    "<a href='#sec4pt3'><font color=darkblue>**Section3:     Limitations and Future Plans**</font></a>"
   ]
  },
  {
   "cell_type": "code",
   "execution_count": null,
   "metadata": {},
   "outputs": [],
   "source": [
    "# Set the my_dir to a path you want to save figures in this notebook.\n",
    "# if you do not want to save images, simply set my_dir to blanks\n",
    "# example: my_dir ='' (you just uncomment out this line...)\n",
    "import os\n",
    "my_dir = 'C:/users/bucbo_000/desktop/python/images'\n",
    "#my_dir=''\n",
    "if os.path.exists(my_dir):\n",
    "    if os.path.isdir(my_dir):\n",
    "        os.chdir(my_dir)\n",
    "else:\n",
    "    my_dir = ''\n",
    "\n"
   ]
  },
  {
   "cell_type": "markdown",
   "metadata": {},
   "source": [
    "<a id='methods'></a>\n",
    "<font color=black size=1>=============================================================================================================</font>\n",
    "\n",
    "\n",
    "<font color=darkpink size=10>Methods</font>\n",
    "\n",
    "<font color=black size=1>=============================================================================================================</font>\n",
    "\n",
    "<a href ='#top'>Jump to Table of Contents</a>"
   ]
  },
  {
   "cell_type": "markdown",
   "metadata": {},
   "source": [
    "<font color=black>This project is part of an larger, ongoing IOT project. In particular, where the sensors could be monitoring a warehouse to assist in environmental controls. \n",
    "    \n",
    "**Initial development**\n",
    "\n",
    "The home was chosen a location for proof of concept, with zero cost and complete control over location. The idea was to complete P.O.C. and then build to incorporate additional robust sophistication when implementing in larger or more complex locations where the environment needs managing. Sensors more accurate than the ones we chose were considered cost prohibitive and overly complex for a P.O.C using ARM microcomputers (the Raspberry PI). Eventually this proof of concept functionality will be absorbed by the larger, ongoing IOT project.\n",
    "\n",
    "\n",
    "<font size=10 color=white></font>\n",
    "**Locations**\n",
    "\n",
    "Testing in a home was the most viable location, in terms of cost and usage. At the time of this project, acquiring access to a warehouse remained pending and considered out of reach. Other IOT projects that tied into the larger IOT project were tested and demonstrated in an office complex presentation room. This too, was considered to be out of reach. Concerning the weather, 4 parts of Atlanta were tracked, The north side of the perimeter, Marietta (west), Stone Mountain (east) and downtown at the Coca-Cola Olympic Village (south). The rational was taking a radius between the home and the downtown Capital and extending east and west. Latitude and Longitude were captured as well as weather information, for later use in visualizing the location (if desired), allowing for exact determination of where the weather was being extracted. \n",
    "\n",
    "**Measures**\n",
    "\n",
    "The sensors were not calibrated. Upon initial activation of the sensor, the data captured was compared to a true thermostat. Any sensor reporting temperature measurements beyond 5 celsius were discarded and replaced. We found a high correspondence between the accuracy of reported temp and the accuracy of reported humidity. Restating, we found when a sensor reported an unacceptable temperature, we found the humidity was also highly skewed. Take note, the DHT22 sensor, which is more accurate than the DHT11 sensor, requires a 10K resistor to keep the microcomputer port current from impacting the reported signal - the reported temp and humidity. The additional cost was less than .01 (actual cost is 2.00 - as buying resistors in bulk is cheaper than purchasing individually).\n",
    "\n",
    "<img src=\"mqtt-pandas.png\" width=1000, height=200>\n",
    "<img src=\"image.png\">\n",
    "\n",
    "**Hardware Specifics** compliments of https://www.mouser.com/ds/2/737/dht-932870.pdf and https://www.raspberrypi.org/products/raspberry-pi-3-model-b-plus/\n",
    "\n"
   ]
  },
  {
   "cell_type": "markdown",
   "metadata": {},
   "source": [
    "# <a id='section1'></a>\n",
    "# <font color=darkpink>Section 1: Process Atlanta Weather Data</font>\n",
    "<a href ='#top'>Jump to Table of Contents</a>"
   ]
  },
  {
   "cell_type": "markdown",
   "metadata": {},
   "source": [
    "<a id='sec1pt1'></a>\n",
    "## <font color=darkblue>Part 1 - Read in raw JSON, write out CSV spreadsheet</font>\n",
    "\n",
    "<a href ='#top'>Jump to Table of Contents</a>\n",
    "\n",
    "<div class=\"alert alert-block alert-warning\">\n",
    "    <b><font color=black>step 1</b> </font><font color=darkblue>: Edit check for valid JSON format.</font>\n",
    "</div>"
   ]
  },
  {
   "cell_type": "code",
   "execution_count": null,
   "metadata": {
    "pixiedust": {
     "displayParams": {}
    }
   },
   "outputs": [],
   "source": [
    "import csv as csv\n",
    "import json\n",
    "from pandas.io.json import json_normalize\n",
    "import matplotlib\n",
    "import matplotlib.pyplot as plt\n",
    "import os\n",
    "import pandas as pd\n",
    "import seaborn as sns\n",
    "from scipy import stats\n",
    "from matplotlib import style\n",
    "#------------------------------------------------#\n",
    "# Set processing parameters and directives\n",
    "#------------------------------------------------#\n",
    "#matplotlib.use('nbagg')\n",
    "style.use('fivethirtyeight')\n",
    "%matplotlib inline\n",
    "plt.rcParams['figure.figsize'] = (16,12)\n",
    "plt.rcParams['font.size'] = 8\n",
    "#------------------------------------------------#\n",
    "# Set the appropriate path\n",
    "#------------------------------------------------#\n",
    "home_path = 'C:\\\\users\\\\bucbo_000\\\\Desktop'\n",
    "\n",
    "if os.path.isdir(home_path):\n",
    "    os.chdir(home_path)\n",
    "else:\n",
    "    home_path='./'\n",
    "\n",
    "\n",
    "#------------------------------------------------#\n",
    "#Open files for JSON read and write LIST\n",
    "#------------------------------------------------#\n",
    "data_file = open('weather_collect.txt', \"r\", encoding = 'utf-8')     \n",
    "\n",
    "#-------------------------------------------------#\n",
    "# Convert json to list of dictionaries, then parse accordingly\n",
    "# IF JSON is INVALID - the json.loads will error. We\n",
    "# trap the error and simply move onto the next record.\n",
    "#-------------------------------------------------#\n",
    "\n",
    "f1 = data_file.readlines()\n",
    "my_df = list()\n",
    "for x in f1:\n",
    "    try:\n",
    "        data = json.loads(x) \n",
    "        df = data\n",
    "        my_df.append(df)\n",
    "    except:\n",
    "        print(\"skipping: JSON format invalid for:\", x)"
   ]
  },
  {
   "cell_type": "markdown",
   "metadata": {},
   "source": [
    "<div class=\"alert alert-block alert-warning\">\n",
    "    <b><font color=black>step 2</b> </font><font color=darkblue>: Write valid data to list of dictionaries for consumption by dictionary writer, a child class of cvs module.</font>\n",
    "</div>\n"
   ]
  },
  {
   "cell_type": "code",
   "execution_count": null,
   "metadata": {},
   "outputs": [],
   "source": [
    "#------------------------------------------------#\n",
    "# Define output file and header line\n",
    "#------------------------------------------------#\n",
    "with open('weather.csv', 'w', newline='') as csvfile:\n",
    "    fieldnames = ['sysdate', 'loc', 'temp', 'hum','forecast', 'lat', 'lon']\n",
    "# This opens the `DictWriter`.\n",
    "    writer = csv.DictWriter(csvfile, fieldnames=fieldnames)\n",
    "#\n",
    "# Write out the header row (this only needs to be done once!).\n",
    "    writer.writeheader()\n",
    "#------------------------------------------------#\n",
    "# Read in, Write out and Loop \n",
    "#------------------------------------------------#\n",
    "    for a_df in my_df:\n",
    "        try:\n",
    "            writer.writerow(a_df)\n",
    "        except:\n",
    "            print(\"Unable to parse, skipping record...\")"
   ]
  },
  {
   "cell_type": "markdown",
   "metadata": {},
   "source": [
    "<div class=\"alert alert-block alert-warning\">\n",
    "    <b><font color=black>step 3</b> </font><font color=darkblue>: Build DataFrame from list of dictionaries.</font>\n",
    "</div>"
   ]
  },
  {
   "cell_type": "code",
   "execution_count": null,
   "metadata": {},
   "outputs": [],
   "source": [
    "ext_df = pd.read_csv(home_path + \"\\\\weather.csv\", usecols=range(0,5)) "
   ]
  },
  {
   "cell_type": "code",
   "execution_count": null,
   "metadata": {},
   "outputs": [],
   "source": [
    "plt.rcParams['figure.figsize'] = (20,15)\n",
    "plt.rcParams['font.size'] = 15\n",
    "\n",
    "a = ext_df.groupby(['loc', 'forecast'])['temp'].mean().unstack().dropna(axis = 0)\n",
    "x = list(a)\n",
    "x\n",
    "\n",
    "\n",
    "slices = [8,8,8,8,8,8,8,8,8,8,8,8,8,8]\n",
    "activities = x\n",
    "cols=['m','g','y','b','r','k','pink']\n",
    "\n",
    "plt.pie(slices, labels=activities\n",
    "        , startangle=90\n",
    "        , colors=cols\n",
    "        , shadow=True\n",
    "        , explode=(0, 0,0,0,0,0,0,0,0,0,0,0.2,0,0)\n",
    "#        , autopct = '%1.1f%%'\n",
    "       )\n",
    "plt.title('Weather\\nExploratory Investigation\\nReview Metadata')\n",
    "\n",
    "if my_dir:\n",
    "    plt.savefig(my_dir + '/' + 'Review_Exploratory_Metadata.png')"
   ]
  },
  {
   "cell_type": "markdown",
   "metadata": {},
   "source": [
    "<a id='sec1pt2'></a>\n",
    "### <font color=darkblue>Part 2 - Review Weather MetaData.</font>\n",
    "\n",
    "<a href ='#top'>Jump to Table of Contents</a>\n",
    "\n",
    "<div class=\"alert alert-block alert-warning\">\n",
    "    <b><font color=black>step 1</b> </font><font color=darkblue>: Visualize Metadata and look for holes in data.</font>\n",
    "</div>\n",
    "    \n",
    "<font size=3 color=blue>Figure 1a. Displays the raw weather metadata collected to identify if data is missing.</font>"
   ]
  },
  {
   "cell_type": "code",
   "execution_count": null,
   "metadata": {},
   "outputs": [],
   "source": [
    "#----------------------------------------#\n",
    "# This WILL NOT RUN with NaN records, so...\n",
    "#    using dropna() function to strip all \n",
    "#    records that have nulls in them. \n",
    "# This assessment is based on this data, \n",
    "#    and should not be considered a best\n",
    "#    practice.\n",
    "#----------------------------------------#\n",
    "for col in ext_df.columns:\n",
    "    plot_data = ext_df[col].dropna()\n",
    "    fig, ax = plt.subplots()\n",
    "    ax.plot(plot_data.values,plot_data.index.values,  label=col)\n",
    "\n",
    "if my_dir:\n",
    "    plt.savefig(my_dir + '/' + 'fig_1a_review_weather_metadata_raw.png')"
   ]
  },
  {
   "cell_type": "markdown",
   "metadata": {},
   "source": [
    "<div class=\"alert alert-block alert-warning\">\n",
    "    <b><font color=black>step 2</b> </font><font color=darkblue>: Show DataFrame sample.</font>\n",
    "</div>\n",
    "\n",
    "    \n",
    "<font size=3 color=blue>Table 1a. displays a random sampling of the weather data collected</font>"
   ]
  },
  {
   "cell_type": "code",
   "execution_count": null,
   "metadata": {},
   "outputs": [],
   "source": [
    "ext_df.sample(n=10)"
   ]
  },
  {
   "cell_type": "markdown",
   "metadata": {},
   "source": [
    "<div class=\"alert alert-block alert-warning\">\n",
    "    <b><font color=black>step 3</b> </font><font color=darkblue>:  Review summary of weather data collected.</font>\n",
    "</div>\n",
    "    \n",
    "<font size=3 color=blue>Table 1b. Summarizes the mean temperature and humidity  by location and forecast</font>"
   ]
  },
  {
   "cell_type": "code",
   "execution_count": null,
   "metadata": {},
   "outputs": [],
   "source": [
    "x = ext_df.groupby(['forecast', 'loc'])['temp', 'hum'].mean().unstack().fillna('-')\n",
    "x"
   ]
  },
  {
   "cell_type": "markdown",
   "metadata": {},
   "source": [
    "<div class=\"alert alert-block alert-warning\">\n",
    "    <b><font color=black>step 4</b> </font><font color=darkblue>: Review raw data Heat Map.</font>\n",
    "</div>\n",
    "    \n",
    "<font size=3 color=blue>Figure 1b. Summarizes the raw data as a Heat Map to supplement Table 1b results.</font>\n",
    "\n",
    "<font size=3 color=purple>Notice that Coca-Cola Olympic Village has the highest diversity in forecasts.</font>"
   ]
  },
  {
   "cell_type": "code",
   "execution_count": null,
   "metadata": {},
   "outputs": [],
   "source": [
    "corr =  ext_df.groupby(['forecast', 'loc'])['temp'].mean().unstack()\n",
    "ax = sns.heatmap(\n",
    "    corr, \n",
    "    \n",
    "    cmap=sns.diverging_palette(10, 220, n=200),\n",
    "    square=True\n",
    ")\n",
    "ax.set_xticklabels(\n",
    "    ax.get_xticklabels(),\n",
    "    rotation=45,\n",
    "    horizontalalignment='right'\n",
    ");\n",
    "\n",
    "if my_dir:\n",
    "    plt.savefig(my_dir + '/' + 'fig_1b_heatmap_atlanta_weather.png')"
   ]
  },
  {
   "cell_type": "markdown",
   "metadata": {},
   "source": [
    "<div class=\"alert alert-block alert-warning\">\n",
    "    <b><font color=black>step 5</b> </font><font color=darkblue>: Review content metadata stats.</font>\n",
    "</div>\n",
    "\n",
    "<font size=3 color=blue>Table 1d. displays the weather ***metadata*** statistics</font>"
   ]
  },
  {
   "cell_type": "code",
   "execution_count": null,
   "metadata": {},
   "outputs": [],
   "source": [
    "print(\"------------------------------------\")\n",
    "print(\"Weather Data has \", ext_df.shape[0], \"Rows and\", ext_df.shape[1], \"Columns of types:\")\n",
    "print(\"------------------------------------\")\n",
    "print(ext_df.dtypes)\n",
    "print(\" \")\n",
    "print(\"------------------------------------\")\n",
    "print(f\"Weather Data nulls search:\")\n",
    "print(\"------------------------------------\")\n",
    "print(ext_df.isnull().sum())\n",
    "print(\" \")\n",
    "print()\n",
    "print(\"------------------------------------\")\n",
    "print(f\"Weather Data counts (raw)\")\n",
    "print(\"------------------------------------\")\n",
    "for i in ext_df.columns:\n",
    "    print(\"The count for\", i, \"is\", ext_df[i].count())\n",
    "print(\" \")\n",
    "print(\"------------------------------------\")\n",
    "print(f\"Weather Data counts excluding nulls:\")\n",
    "print(\"------------------------------------\")\n",
    "print(ext_df.dropna().count())\n",
    "print(\" \")\n",
    "print(\"------------------------------------\")\n",
    "print(f\"Weather Data statistics:\")\n",
    "print(\"------------------------------------\")\n",
    "ext_df.describe([0])"
   ]
  },
  {
   "cell_type": "markdown",
   "metadata": {},
   "source": [
    "<font size=1 color=black>===============================================================================================================</font>\n",
    "## <font color=darkpink>Clean the weather data.</font>\n",
    "<font size=1 color=black>===============================================================================================================</font>"
   ]
  },
  {
   "cell_type": "markdown",
   "metadata": {},
   "source": [
    "### <font color=red>Discrepancy!</font><font color=darkgray> The </font><font color=darkorange>weather</font><font color=darkgray> humidity is in </font><font color=darkorange> percentages</font><font color=darkgray> while the </font><font color=blue> indoors </font><font color=darkgray> humidity is in </font><font color=blue>integers</font>"
   ]
  },
  {
   "cell_type": "markdown",
   "metadata": {},
   "source": [
    "<div class=\"alert alert-block alert-warning\">\n",
    "    <b><font color=black>step 6</b> </font><font color=darkblue>: Convert the humidity before moving on.</font>\n",
    "</div>"
   ]
  },
  {
   "cell_type": "code",
   "execution_count": null,
   "metadata": {},
   "outputs": [],
   "source": [
    "ext_df['hum'] = (ext_df['hum'] * 100)\n"
   ]
  },
  {
   "cell_type": "markdown",
   "metadata": {},
   "source": [
    "<div class=\"alert alert-block alert-warning\">\n",
    "    <b><font color=black>step 7</b> </font><font color=darkblue>: Drop null weather data.</font>\n",
    "</div>"
   ]
  },
  {
   "cell_type": "code",
   "execution_count": null,
   "metadata": {},
   "outputs": [],
   "source": [
    "ext_df.dropna(axis=0, inplace=True)"
   ]
  },
  {
   "cell_type": "markdown",
   "metadata": {},
   "source": [
    "<div class=\"alert alert-block alert-warning\">\n",
    "    <b><font color=black>step 8</b> </font><font color=darkblue>: Take sample and verify results.</font>\n",
    "</div>\n",
    "\n",
    "<font size=3 color=blue>Table 1e. Shows a sample of the cleaned weather ***data*** </font>"
   ]
  },
  {
   "cell_type": "code",
   "execution_count": null,
   "metadata": {},
   "outputs": [],
   "source": [
    "ext_df.sample(n=5)"
   ]
  },
  {
   "cell_type": "markdown",
   "metadata": {},
   "source": [
    "<a id='sec1pt3'></a>\n",
    "## <font color=darkblue>Part 3 - Format DATES and build indicies.</font>\n",
    "\n",
    "<a href ='#top'>Jump to Table of Contents</a>\n",
    "\n",
    "<div class=\"alert alert-block alert-warning\">\n",
    "    <b><font color=black>step 1</b> </font><font color=darkblue>: Format the sysdate column to be a pandas DATE object.</font></div>"
   ]
  },
  {
   "cell_type": "code",
   "execution_count": null,
   "metadata": {},
   "outputs": [],
   "source": [
    "ext_df['sysdate'] = pd.to_datetime(ext_df['sysdate'])"
   ]
  },
  {
   "cell_type": "markdown",
   "metadata": {},
   "source": [
    "<div class=\"alert alert-block alert-warning\">\n",
    "    <b><font color=black>step 2</b> </font><font color=darkblue>: Validate the DATE conversion worked.</font></div>\n",
    "\n",
    "<font size=3 color=blue>Table 1f. Shows the data types of columns - to validate sysdate is now a datetime object </font>"
   ]
  },
  {
   "cell_type": "code",
   "execution_count": null,
   "metadata": {},
   "outputs": [],
   "source": [
    "ext_df.dtypes"
   ]
  },
  {
   "cell_type": "markdown",
   "metadata": {},
   "source": [
    "<div class=\"alert alert-block alert-warning\">\n",
    "    <b><font color=black>step 3</b> </font><font color=darkblue>: Build index for visualization preparation.</font></div>\n",
    "\n",
    "<a href ='#top'>Jump to Table of Contents</a>"
   ]
  },
  {
   "cell_type": "code",
   "execution_count": null,
   "metadata": {},
   "outputs": [],
   "source": [
    "ext_df.set_index(['sysdate'], inplace=True)\n",
    "ext_df.sort_index(inplace=True)"
   ]
  },
  {
   "cell_type": "markdown",
   "metadata": {},
   "source": [
    "<a id='sec1pt4'></a>\n",
    "## <font color=darkblue>Part 4 - Breakout DataFrames by Location.</font>\n",
    "\n",
    "<a href ='#top'>Jump to Table of Contents</a>"
   ]
  },
  {
   "cell_type": "markdown",
   "metadata": {},
   "source": [
    "<div class=\"alert alert-block alert-warning\">\n",
    "    <b><font color=black>step 1</b> </font><font color=darkblue>: Create new dataframes by location in city.</font></div>"
   ]
  },
  {
   "cell_type": "code",
   "execution_count": null,
   "metadata": {},
   "outputs": [],
   "source": [
    "ext_atl = ext_df[ext_df['loc'] == 'Atlanta Georgia']\n",
    "ext_marietta = ext_df[ext_df['loc'] == 'Big Chicken Marietta Georgia']\n",
    "ext_stonemtn = ext_df[ext_df['loc'] == 'Stone Mountain Park']\n",
    "ext_coke = ext_df[ext_df['loc'] == 'Coca-Cola Olympic Park']"
   ]
  },
  {
   "cell_type": "markdown",
   "metadata": {},
   "source": [
    "<div class=\"alert alert-block alert-warning\">\n",
    "    <b><font color=black>step 2</b> </font><font color=darkblue>: Take sub-group sample stat to ensure dataframes built correctly.</font></div>\n",
    "\n",
    "<font size=3 color=blue>Table 1g. Shows a breakout of forecasts.</font>"
   ]
  },
  {
   "cell_type": "code",
   "execution_count": null,
   "metadata": {},
   "outputs": [],
   "source": [
    "ext_atl['forecast'].value_counts()"
   ]
  },
  {
   "cell_type": "markdown",
   "metadata": {},
   "source": [
    "<a id='sec1pt5'></a>\n",
    "## <font color=darkblue>Part 5 - Visualize External Data for Completeness.</font>\n",
    "\n",
    "<a href ='#top'>Jump to Table of Contents</a>"
   ]
  },
  {
   "cell_type": "markdown",
   "metadata": {},
   "source": [
    "<div class=\"alert alert-block alert-warning\">\n",
    "    <b><font color=black>step 1</b> </font><font color=darkblue>: Breakout external data by groups.</font></div>"
   ]
  },
  {
   "cell_type": "code",
   "execution_count": null,
   "metadata": {},
   "outputs": [],
   "source": [
    "ext_df.drop(columns = ['forecast']).groupby(['loc']).count()\n"
   ]
  },
  {
   "cell_type": "markdown",
   "metadata": {},
   "source": [
    "<div class=\"alert alert-block alert-warning\">\n",
    "    <b><font color=black>step 2</b> </font><font color=darkblue>: Merge external data groups.</font></div>"
   ]
  },
  {
   "cell_type": "code",
   "execution_count": null,
   "metadata": {},
   "outputs": [],
   "source": [
    "ow = ext_atl.join(ext_marietta, how='left', lsuffix='_atl', rsuffix='_marietta')\n",
    "sw = ext_coke.join(ext_stonemtn, how='left', lsuffix='_coke', rsuffix='_stnmtn')\n",
    "outside = ow.join(sw, how='left')\n",
    "outside.sort_index(inplace=True)"
   ]
  },
  {
   "cell_type": "markdown",
   "metadata": {},
   "source": [
    "<div class=\"alert alert-block alert-warning\">\n",
    "    <b><font color=black>step 3</b> </font><font color=darkblue>: Do basic plot as a test.</font></div>\n",
    "\n",
    "### <font color = blue size=3>Figure 1b - Initial display of weather temp and humidity</font>\n",
    "\n",
    " <font color=purple size=3> This actually discloses a lot, but we avoid details, as we stay on track of presentation.</font>"
   ]
  },
  {
   "cell_type": "code",
   "execution_count": null,
   "metadata": {},
   "outputs": [],
   "source": [
    "outside.plot(figsize=(22,11))\n",
    "plt.xlabel('Dates', color='green')\n",
    "plt.ylabel('Temperature and Humidity', color='red')\n",
    "plt.title('External Weather Raw Data\\n--------\\nTemperature and Humidity', color='blue')\n",
    "\n",
    "if my_dir:\n",
    "    plt.savefig(my_dir + '/' + 'fig_1b_weather_temp_hum_raw_data.png')"
   ]
  },
  {
   "cell_type": "markdown",
   "metadata": {},
   "source": [
    "\n",
    "### <font color = blue size=3>Figure 1c - Same data as figure 1b, but smoothed with rolling mean</font>"
   ]
  },
  {
   "cell_type": "code",
   "execution_count": null,
   "metadata": {},
   "outputs": [],
   "source": [
    "ext_df['avg_temp'] = ext_atl['temp'].rolling(10).mean().dropna()\n",
    "ext_df['avg_hum'] = ext_atl['hum'].rolling(10).mean().dropna()\n",
    "ax = ext_df['avg_hum'].plot()\n",
    "ax1 = ext_df['avg_temp'].plot(ax = ax, figsize=(22,11))\n",
    "plt.xlabel('Dates', color='green')\n",
    "plt.ylabel('Temperature and Humidity', color='red')\n",
    "plt.title(\"Derived Mean of External Temperature and Humidity\\nSmoothed by Rolling Mean of 10 samples\", color='blue')\n",
    "plt.legend()\n",
    "if my_dir:\n",
    "    plt.savefig(my_dir + '/' + 'fig_1c_weather_temp_hum_raw_data.png')"
   ]
  },
  {
   "cell_type": "markdown",
   "metadata": {},
   "source": [
    "<div class=\"alert alert-block alert-warning\">\n",
    "    <b><font color=black>step 4</b> </font><font color=darkblue>: Present external temperatures.</font></div>\n",
    "\n",
    "### <font color = blue size=3>Figure 1d - Initial display of weather temp</font>"
   ]
  },
  {
   "cell_type": "code",
   "execution_count": null,
   "metadata": {},
   "outputs": [],
   "source": [
    "outside.drop(columns=['hum_atl', 'hum_coke','hum_stnmtn', 'hum_marietta']).plot(figsize=(22,11))\n",
    "plt.xlabel('Dates', color='green')\n",
    "plt.ylabel('Temperature', color='red')\n",
    "plt.title('Composite of Temperature Data collected from Weather Service', color='blue')\n",
    "\n",
    "if my_dir:\n",
    "    plt.savefig(my_dir + '/' + 'fig_1d_weather_temp.png')"
   ]
  },
  {
   "cell_type": "markdown",
   "metadata": {},
   "source": [
    "<div class=\"alert alert-block alert-warning\">\n",
    "    <b><font color=black>step 5</b> </font><font color=darkblue>: Present external humidities.</font></div>\n",
    "\n",
    "### <font color = blue size=3>Figure 1e - Initial display of weather humidity</font>"
   ]
  },
  {
   "cell_type": "code",
   "execution_count": null,
   "metadata": {},
   "outputs": [],
   "source": [
    "outside.drop(columns=['temp_atl', 'temp_coke','temp_stnmtn', 'temp_marietta']).plot(figsize=(22,11))\n",
    "plt.xlabel('Dates', color='green')\n",
    "plt.ylabel('Humidity', color='red')\n",
    "plt.title('Composite of Humidity Data collected from Weather Service', color='blue')\n",
    "\n",
    "if my_dir:\n",
    "    plt.savefig(my_dir + '/' + 'fig_1e_weather_humidity.png')"
   ]
  },
  {
   "cell_type": "markdown",
   "metadata": {},
   "source": [
    "<a id='section2'></a>\n",
    "# <font color=darkpink>Section 2: Process Home Environment(Indoor Data)</font>\n",
    "<a href ='#top'>Jump to Table of Contents</a>\n"
   ]
  },
  {
   "cell_type": "markdown",
   "metadata": {},
   "source": [
    "### <a id='sec2pt1'></a>\n",
    "## <font color=darkblue>Part 1 - Read, write and remove dups from environment data csv spreadsheet</font>\n",
    "\n",
    "\n",
    "<a href ='#top'>Jump to Table of Contents</a>\n",
    "\n",
    "<div class=\"alert alert-block alert-warning\">\n",
    "    <b><font color=black>step 1</b> </font><font color=darkblue>: Edit and Build step combined - See Section 1 for step by step details.</font></div>\n",
    "\n",
    "### <font color = blue size=3>Table 2a - Shows indoor data that was cleaned off or rejected</font>"
   ]
  },
  {
   "cell_type": "code",
   "execution_count": null,
   "metadata": {},
   "outputs": [],
   "source": [
    "import csv as csv\n",
    "import datetime\n",
    "import json\n",
    "from pandas.io.json import json_normalize\n",
    "import matplotlib\n",
    "import matplotlib.pyplot as plt\n",
    "import os\n",
    "import pandas as pd\n",
    "import seaborn as sns\n",
    "\n",
    "# Set the appropriate path\n",
    "\n",
    "#------------------------------------------------#\n",
    "# Set processing parameters and directives\n",
    "#------------------------------------------------#\n",
    "matplotlib.use('nbagg')\n",
    "%matplotlib inline\n",
    "plt.rcParams['figure.figsize'] = (16,12)\n",
    "plt.rcParams['font.size'] = 8\n",
    "#------------------------------------------------#\n",
    "# Set the appropriate path\n",
    "#------------------------------------------------#\n",
    "\n",
    "\n",
    "home_path = 'C:\\\\users\\\\bucbo_000\\\\Desktop'\n",
    "\n",
    "if os.path.isdir(home_path):\n",
    "    os.chdir(home_path)\n",
    "else:\n",
    "    home_path='./'\n",
    "    \n",
    "#Open files for read and write - write headings first\n",
    "data_file = open('mqtt.txt', \"r\", encoding = 'utf-8')     \n",
    "\n",
    "# Convert json to list of dictionaries, then parse accordingly\n",
    "\n",
    "f1 = data_file.readlines()\n",
    "my_df = list()\n",
    "for x in iter(f1):\n",
    "    try:\n",
    "        data = json.loads(x)\n",
    "        df = data #json_normalize(data)\n",
    "        my_df.append(df)\n",
    "    except:\n",
    "        print(\"skipping: JSON format invalid for:\", x)\n",
    "        \n",
    "cnt_accept = 0\n",
    "cnt_reject =0\n",
    "content_df = list()\n",
    "for i in enumerate(my_df):\n",
    "     for k,v in enumerate(i):\n",
    "        #print(i)\n",
    "        #print(\"v=\", v)\n",
    "        #if str(v).startswith('{\\'device') and \"loc\" in str(v):\n",
    "        if \"env\" not in str(i):\n",
    "            content_df.append(my_df)\n",
    "            cnt_accept +=1\n",
    "        else:\n",
    "            print(\"skipping: JSON content invalid\")\n",
    "            cnt_reject +=1\n",
    "            \n",
    "print(\"We now have\", cnt_accept, \"records to use after cleaning\",cnt_reject, \"rows\")\n",
    "\n",
    "cnt_accept = 0\n",
    "cnt_reject = 0\n",
    "\n",
    "# Define output file and header line\n",
    "with open('mqtt.csv', 'w', newline='') as csvfile:\n",
    "    fieldnames = ['device','sysdate', 'temp', 'hum', 'state']\n",
    "# This opens the `DictWriter`.\n",
    "    writer = csv.DictWriter(csvfile, fieldnames=fieldnames)\n",
    "#\n",
    "# Write out the header row (this only needs to be done once!).\n",
    "    writer.writeheader()\n",
    "#\n",
    "# Read in, Write out and Loop \n",
    "#\n",
    "    for a_df in my_df:\n",
    "        try:\n",
    "            writer.writerow(a_df)\n",
    "            cnt_accept += 1\n",
    "        except:\n",
    "            print(\"Unable to parse, skipping...\")\n",
    "            cnt_reject += 1\n",
    "\n",
    "print(\"We now have\", cnt_accept, \"Dictionary records to use after cleaning\",cnt_reject, \"rows\")\n",
    "\n",
    "\n",
    "int_df = pd.read_csv(home_path + \"\\\\mqtt.csv\", usecols=range(0,4)) \n",
    "\n",
    "#######################################################\n",
    "#\n",
    "int_df = int_df.drop_duplicates()\n",
    "#\n",
    "#######################################################\n",
    "\n",
    "int_df['sysdate'] = pd.to_datetime(int_df['sysdate'])"
   ]
  },
  {
   "cell_type": "markdown",
   "metadata": {},
   "source": [
    "<a id='sec2pt2'></a>\n",
    "## <font color=darkblue>Part 2 - Review Environment Metadata</font>\n",
    "\n",
    "<a href ='#top'>Jump to Table of Contents</a>\n",
    "\n",
    "<div class=\"alert alert-block alert-warning\">\n",
    "    <b><font color=black>step 1</b> </font><font color=darkblue>: Visualize Metadata and look for holes in data.</font>\n",
    "</div>\n",
    "\n",
    "    \n",
    "<font size=3 color=blue>Figure 2a. Displays the raw indoor metadata collected to identify if data is missing.</font>"
   ]
  },
  {
   "cell_type": "code",
   "execution_count": null,
   "metadata": {},
   "outputs": [],
   "source": [
    "for col in int_df.columns:\n",
    "    plot_data = int_df[col].dropna()\n",
    "    fig, ax = plt.subplots()\n",
    "    ax.plot(plot_data.index.values, plot_data.values, label=col)\n",
    "    plt.ylabel(col)\n",
    "    plt.title(\"MetaData Dump\\nfor review of missing data\")\n",
    "\n",
    "if my_dir:\n",
    "    plt.savefig(my_dir + '/' + 'fig_2a_indoor_raw_metadata_visual.png')"
   ]
  },
  {
   "cell_type": "markdown",
   "metadata": {},
   "source": [
    "<div class=\"alert alert-block alert-warning\">\n",
    "    <b><font color=black>step 2</b> </font><font color=darkblue>: Review raw Metadata statistics.</font>\n",
    "</div>"
   ]
  },
  {
   "cell_type": "code",
   "execution_count": null,
   "metadata": {},
   "outputs": [],
   "source": [
    "print(\"------------------------------------\")\n",
    "print(\"Environment Data has \", int_df.shape[0], \"Rows and\", int_df.shape[1], \"Columns of types:\")\n",
    "print(\"------------------------------------\")\n",
    "print(int_df.dtypes)\n",
    "print(\" \")\n",
    "print(\"------------------------------------\")\n",
    "print(f\"Environment Data nulls search:\")\n",
    "print(\"------------------------------------\")\n",
    "print(int_df.isnull().sum())\n",
    "print(\" \")\n",
    "print(\"------------------------------------\")\n",
    "print(f\"Environment Data counts (raw)\")\n",
    "print(\"------------------------------------\")\n",
    "for i in int_df.columns:\n",
    "    print(\"The count for\", i, \"is\", int_df[i].count())\n",
    "print(\"------------------------------------\")\n",
    "print(f\"Environment Data counts:\")\n",
    "print(\"------------------------------------\")\n",
    "print(int_df.dropna().count())\n",
    "print(\" \")\n",
    "print(\"------------------------------------\")\n",
    "print(f\"Environment Data statistics:\")\n",
    "print(\"------------------------------------\")\n",
    "int_df.describe()\n",
    "print(f\"device cardinality:\", int_df['device'].value_counts())\n",
    "print(f\"temp mean:\", int_df['temp'].value_counts().mean())\n",
    "print(f\"humidity mean:\", int_df['hum'].value_counts().mean())"
   ]
  },
  {
   "cell_type": "markdown",
   "metadata": {},
   "source": [
    "<div class=\"alert alert-block alert-warning\">\n",
    "    <b><font color=black>step 3</b> </font><font color=darkblue>: Review indoor temp for outliers.</font>\n",
    "</div>\n",
    "\n",
    "### <font color = blue size=3>Figure 2b - Initial display of indoor temp</font>"
   ]
  },
  {
   "cell_type": "code",
   "execution_count": null,
   "metadata": {},
   "outputs": [],
   "source": [
    "int_df['temp'].plot(color='lightblue')\n",
    "new_df = int_df.copy()\n",
    "plt.xlabel('Dates', color='green')\n",
    "plt.ylabel('Temperature', color='red')\n",
    "plt.title('Indoor Temperature Raw Data', color='blue')\n",
    "plt.legend()\n",
    "\n",
    "if my_dir:\n",
    "    plt.savefig(my_dir + '/' + 'fig_2b_indoor_temp_raw.png')"
   ]
  },
  {
   "cell_type": "markdown",
   "metadata": {},
   "source": [
    "### <font color = blue size=3>Figure 2c - Same data as Figure 2b - but presented using rolling mean</font>"
   ]
  },
  {
   "cell_type": "code",
   "execution_count": null,
   "metadata": {},
   "outputs": [],
   "source": [
    "int_df['temp'].rolling(10).mean().plot(color='lightblue')\n",
    "new_df = int_df.copy()\n",
    "plt.xlabel('Dates', color='green')\n",
    "plt.ylabel('Temperature', color='red')\n",
    "plt.title('Indoor Temperature Raw Data\\nSmoothed using Rolling Mean of 10 samples', color='blue')\n",
    "plt.legend()\n",
    "\n",
    "if my_dir:\n",
    "    plt.savefig(my_dir + '/' + 'fig_2c_indoor_temp_raw.png')"
   ]
  },
  {
   "cell_type": "markdown",
   "metadata": {},
   "source": [
    "<div class=\"alert alert-block alert-warning\">\n",
    "    <b><font color=black>step 4</b> </font><font color=darkblue>: Review summary of indoor data collected.</font>\n",
    "</div>\n",
    "    \n",
    "<font size=3 color=blue>Table 2b. Displays the temperature and humidity  by room.</font>"
   ]
  },
  {
   "cell_type": "code",
   "execution_count": null,
   "metadata": {},
   "outputs": [],
   "source": [
    "import matplotlib.pyplot as plt\n",
    "from matplotlib import style\n",
    "\n",
    "style.use('ggplot')\n",
    "\n",
    "%matplotlib inline\n",
    "plt.rcParams['figure.figsize'] = (16,12)\n",
    "plt.rcParams['font.size'] = 18\n",
    "\n",
    "x = int_df.replace({'device': {'B8:27:EB:76:5F:45': 'Living Room', 'B8:27:EB:2D:40:28': 'Master Bedroom', 'B8:27:EB:37:B0:F8': 'Guest Bedroom', 'B8:27:EB:A9:D4:C2': 'Kitchen', 'DC:0:D30:48:FE:9C':'Master Bedroom'}}).groupby(['temp', 'device'])['hum'].min().unstack().fillna('-')\n",
    "y = int_df.replace({'device': {'B8:27:EB:76:5F:45': 'Living Room', 'B8:27:EB:2D:40:28': 'Master Bedroom', 'B8:27:EB:37:B0:F8': 'Guest Bedroom', 'B8:27:EB:A9:D4:C2': 'Kitchen', 'DC:0:D30:48:FE:9C':'Master Bedroom'}}).groupby(['temp', 'device'])['hum'].max().unstack().fillna('-')\n",
    "x  = x.join(y, how='left', lsuffix=\"_min\", rsuffix='_max')\n",
    "print(x)"
   ]
  },
  {
   "cell_type": "markdown",
   "metadata": {},
   "source": [
    "<div class=\"alert alert-block alert-warning\">\n",
    "    <b><font color=black>step 5</b> </font><font color=darkblue>: Clean up outliers.</font>\n",
    "</div>\n",
    "\n",
    "## <font color=blue>Notice</font><font color=purple> the wide swing in </font><font color=red>temp </font><font color=purple> ranges. Let's use Z-Score and clean up the temp outliers."
   ]
  },
  {
   "cell_type": "code",
   "execution_count": null,
   "metadata": {},
   "outputs": [],
   "source": [
    "print(abs(stats.zscore(int_df['temp'])).min())\n",
    "print(abs(stats.zscore(int_df['temp'])).mean())\n",
    "print(abs(stats.zscore(int_df['temp'])).std())\n",
    "print(abs(stats.zscore(int_df['temp'])).max())\n",
    "int_df = int_df[abs(stats.zscore(int_df['temp'])) < 2.0]"
   ]
  },
  {
   "cell_type": "markdown",
   "metadata": {},
   "source": [
    "<div class=\"alert alert-block alert-warning\">\n",
    "    <b><font color=black>step 6</b> </font><font color=darkblue>: Review new data.</font>\n",
    "</div>\n",
    "\n",
    "<font size=3 color=blue>Table 2c. Displays the temperature and humidity statistics.</font>"
   ]
  },
  {
   "cell_type": "code",
   "execution_count": null,
   "metadata": {},
   "outputs": [],
   "source": [
    "print(\"------------------------------------\")\n",
    "print(\"Environment Data statistics:\")\n",
    "print(\"------------------------------------\")\n",
    "int_df.describe()"
   ]
  },
  {
   "cell_type": "markdown",
   "metadata": {},
   "source": [
    "<div class=\"alert alert-block alert-warning\">\n",
    "    <b><font color=black>step 7</b> </font><font color=darkblue>: Clean up outliers.</font>\n",
    "</div>\n",
    "\n",
    "## <font color=blue>Notice</font><font color=purple> the wide swing in </font><font color=red>hum </font><font color=purple> ranges. Let's use Z-Score and clean up the hum outliers."
   ]
  },
  {
   "cell_type": "code",
   "execution_count": null,
   "metadata": {},
   "outputs": [],
   "source": [
    "print(abs(stats.zscore(int_df['hum'])).min())\n",
    "print(abs(stats.zscore(int_df['hum'])).mean())\n",
    "print(abs(stats.zscore(int_df['hum'])).std())\n",
    "print(abs(stats.zscore(int_df['hum'])).max())\n",
    "int_df = int_df[abs(stats.zscore(int_df['hum'])) < 2.0 ]"
   ]
  },
  {
   "cell_type": "markdown",
   "metadata": {},
   "source": [
    "<div class=\"alert alert-block alert-warning\">\n",
    "    <b><font color=black>step 8</b> </font><font color=darkblue>: Review new data.</font>\n",
    "</div>\n",
    "\n",
    "<font size=3 color=blue>Table 2d. Displays the **cleaned** temperature and humidity statistics.</font>"
   ]
  },
  {
   "cell_type": "code",
   "execution_count": null,
   "metadata": {},
   "outputs": [],
   "source": [
    "print(\"------------------------------------\")\n",
    "print(\"Environment Data statistics:\")\n",
    "print(\"------------------------------------\")\n",
    "int_df.describe()"
   ]
  },
  {
   "cell_type": "markdown",
   "metadata": {},
   "source": [
    "<a id='sec2pt3'></a>\n",
    "## <font color=darkblue>Part 3 - Rename columns, replace data and build index.</font>\n",
    "\n",
    "<a href ='#top'>Jump to Table of Contents</a>\n",
    "\n",
    "<div class=\"alert alert-block alert-warning\">\n",
    "    <b><font color=black>step 1</b> </font><font color=darkblue>: Change devices to match room location.</font>\n",
    "</div>"
   ]
  },
  {
   "cell_type": "code",
   "execution_count": null,
   "metadata": {},
   "outputs": [],
   "source": [
    "int_df.replace({'device': {'B8:27:EB:76:5F:45': 'Living Room', 'B8:27:EB:2D:40:28': 'Master Bedroom', 'B8:27:EB:37:B0:F8': 'Guest Bedroom', 'B8:27:EB:A9:D4:C2': 'Kitchen', 'DC:0:D30:48:FE:9C':'Master Bedroom'}}, inplace=True)"
   ]
  },
  {
   "cell_type": "markdown",
   "metadata": {},
   "source": [
    "<div class=\"alert alert-block alert-warning\">\n",
    "    <b><font color=black>step 2</b> </font><font color=darkblue>: COLUMN renaming step to make columns meaningful.</font>\n",
    "</div>"
   ]
  },
  {
   "cell_type": "code",
   "execution_count": null,
   "metadata": {},
   "outputs": [],
   "source": [
    "#int_df.rename(columns={'state': 'forecast'},inplace=True)\n",
    "int_df.rename(columns={'device': 'room'}, inplace=True)"
   ]
  },
  {
   "cell_type": "markdown",
   "metadata": {},
   "source": [
    "<div class=\"alert alert-block alert-warning\">\n",
    "    <b><font color=black>step 3</b> </font><font color=darkblue>: Set sysdate as index for internal data.</font>\n",
    "</div>"
   ]
  },
  {
   "cell_type": "code",
   "execution_count": null,
   "metadata": {},
   "outputs": [],
   "source": [
    "int_df.set_index(['sysdate'], inplace=True)\n",
    "int_df.sort_index(inplace=True)"
   ]
  },
  {
   "cell_type": "markdown",
   "metadata": {},
   "source": [
    "<a id='sec2pt4'></a>\n",
    "## <font color=darkblue>Part 4 - Breakout DataFrames by location.</font>\n",
    "\n",
    "<a href ='#top'>Jump to Table of Contents</a>"
   ]
  },
  {
   "cell_type": "markdown",
   "metadata": {},
   "source": [
    "<div class=\"alert alert-block alert-warning\">\n",
    "    <b><font color=black>step 1</b> </font><font color=darkblue>: Create new dataframes by device or internal location.</font>\n",
    "</div>\n",
    "\n",
    "### <font color=purple>As this is taken during the summer, we can assume any temp below 70 F is to be removed.</font>"
   ]
  },
  {
   "cell_type": "code",
   "execution_count": null,
   "metadata": {},
   "outputs": [],
   "source": [
    "mb = int_df[int_df['room'] == 'Master Bedroom']\n",
    "lr = int_df[int_df['room'] == 'Living Room']\n",
    "gb = int_df[int_df['room'] == 'Guest Bedroom']\n",
    "kt = int_df[int_df['room'] == 'Kitchen']\n",
    "#---------------------------------------------#\n",
    "# Deprecated with Z-scoring above\n",
    "#---------------------------------------------#\n",
    "#mb = mb[mb['temp'] > 69]\n",
    "#mb = mb[mb['temp'] < 90]\n",
    "#lr = lr[lr['temp'] > 69]\n",
    "#lr = lr[lr['temp'] < 90]\n",
    "#gb = gb[gb['temp'] > 69]\n",
    "#gb = gb[gb['temp'] < 90]\n",
    "#kt = kt[kt['temp'] > 69]\n",
    "#kt = kt[kt['temp'] < 90]"
   ]
  },
  {
   "cell_type": "markdown",
   "metadata": {},
   "source": [
    "<a id='sec2pt5'></a>\n",
    "## <font color=darkblue>Part 5 - Visualize and Assess Environment Data.</font>\n",
    "\n",
    "<a href ='#top'>Jump to Table of Contents</a>"
   ]
  },
  {
   "cell_type": "markdown",
   "metadata": {},
   "source": [
    "<div class=\"alert alert-block alert-warning\">\n",
    "    <b><font color=black>step 1</b> </font><font color=darkblue>: Display data counts by device.</font>\n",
    "</div>\n",
    "\n",
    "<font size=3 color=blue>Table 2e. Displays the temperature and humidity counts by room</font>\n",
    "\n",
    "<font size=3 color=blue>Table 2f. Displays the temperature and humidity mean by room</font>"
   ]
  },
  {
   "cell_type": "code",
   "execution_count": null,
   "metadata": {},
   "outputs": [],
   "source": [
    "int_df.groupby(['room']).count()\n"
   ]
  },
  {
   "cell_type": "code",
   "execution_count": null,
   "metadata": {},
   "outputs": [],
   "source": [
    "int_df.groupby(['room']).mean()"
   ]
  },
  {
   "cell_type": "markdown",
   "metadata": {},
   "source": [
    "<div class=\"alert alert-block alert-warning\">\n",
    "    <b><font color=black>step 2</b> </font><font color=darkblue>: Visualize the internal data's metadata.</font>\n",
    "</div>\n",
    "    \n",
    "### <font color = blue size=3>Figure 2c - Review environment metadata to assess if missing we are missing data.</font>"
   ]
  },
  {
   "cell_type": "code",
   "execution_count": null,
   "metadata": {},
   "outputs": [],
   "source": []
  },
  {
   "cell_type": "markdown",
   "metadata": {},
   "source": [
    "<div class=\"alert alert-block alert-warning\">\n",
    "    <b><font color=black>step 3</b> </font><font color=darkblue>: Merge internal data groups.</font>\n",
    "</div>"
   ]
  },
  {
   "cell_type": "code",
   "execution_count": null,
   "metadata": {},
   "outputs": [],
   "source": [
    "br = mb.join(gb, how='left',  lsuffix='_mstr', rsuffix='_guest')\n",
    "lk = lr.join(kt, how='left', lsuffix='_living', rsuffix='_kit')\n",
    "inside = br.join(lk, how='left')"
   ]
  },
  {
   "cell_type": "markdown",
   "metadata": {},
   "source": [
    "<div class=\"alert alert-block alert-warning\">\n",
    "    <b><font color=black>step 4</b> </font><font color=darkblue>: Visualize internal data.</font>\n",
    "</div>\n",
    "\n",
    "### <font color = blue size=3>Table 2d - Cleaner environment temp with humidity</font>"
   ]
  },
  {
   "cell_type": "code",
   "execution_count": null,
   "metadata": {},
   "outputs": [],
   "source": [
    "inside.plot()\n",
    "plt.xlabel('Dates', color='green')\n",
    "plt.ylabel('Temperature and Humidity', color='red')\n",
    "plt.title('Cooked (not-raw) Indoor Data\\nComposite of indoor temperature and humidity', color='blue')\n",
    "\n",
    "if my_dir:\n",
    "    plt.savefig(my_dir + '/' + 'fig_2d_indoor_data_cleaner.png')"
   ]
  },
  {
   "cell_type": "markdown",
   "metadata": {},
   "source": [
    "<a id='results'></a>\n",
    "<font color=black size=1>=============================================================================================================</font>\n",
    "\n",
    "\n",
    "<font color=darkpink size=10>Results</font>\n",
    "\n",
    "<font color=black size=1>=============================================================================================================</font>\n",
    "\n",
    "<a href ='#top'>Jump to Table of Contents</a>"
   ]
  },
  {
   "cell_type": "markdown",
   "metadata": {},
   "source": [
    "A total of 4 sensors were used to tally the indoors environment. The kitchen (kt) and mstr bedroom (mb) sensors are using a DHT11 - so they're the least sensitive of all the other DHT-22 sensors. The sensors took reading every minute, provided the device was running properly. Starting May 24, 2019 **the thermostat stayed fixed at 76 F, as a control**. After the first week, a humidifier was engaged in the living room and the thermostat was set to**78 F and remained there for the duration of the study** (till June 6th, 2019)\n",
    "\n",
    "**Identification of Items**\n",
    "The kitchen and master bedroom both have direct plumbing in them, which would lean towards having a higher room humidity count than rooms without plumbing. Unexplainably, the living room had a higher humidity count than did the kitchen. Both kitchen and masterbath were checked for leaks and none were found. Further research is needed to explain why the living room consistently had a higher humidity rate than the kitchen."
   ]
  },
  {
   "cell_type": "markdown",
   "metadata": {},
   "source": [
    "<a id='sec3pt1'></a>\n",
    "## <font color=darkblue>Part 1 - Present Weather Findings</font>\n",
    "\n",
    "\n",
    "<a href ='#top'>Jump to Table of Contents</a>\n",
    "\n",
    "<div class=\"alert alert-block alert-warning\">\n",
    "    <b><font color=black>step 1</b> </font><font color=darkblue>: Present humidity corresponding to temp.</font>\n",
    "</div>\n",
    "\n",
    "    \n",
    "### <font color = blue size=3>Figure 3a - Display of Weather correlating Humidity to Temperature.</font>"
   ]
  },
  {
   "cell_type": "code",
   "execution_count": null,
   "metadata": {},
   "outputs": [],
   "source": [
    "fs=22\n",
    "ax = ext_atl.plot(kind=\"scatter\", x='hum', y=\"temp\",label=\"ATL\", c='b')\n",
    "ax2 = ext_marietta.plot(kind=\"scatter\", x='hum', y=\"temp\",label=\"MAR\", c='orange', ax = ax)\n",
    "ax3 = ext_coke.plot(kind=\"scatter\", x='hum', y=\"temp\",label=\"COKE\", c='r' , ax = ax)\n",
    "ax4 = ext_stonemtn.plot(kind=\"scatter\", x='hum', y=\"temp\",label=\"STNMNT\", c='brown' , ax = ax)\n",
    "plt.xlabel('Humidity', color = 'green', fontsize=fs)\n",
    "plt.ylabel('Temperature', color='red', fontsize=fs)\n",
    "plt.title('Display of Outdoor Weather\\nTemperature and Humidity', color='blue', fontsize=fs)\n",
    "\n",
    "if my_dir:\n",
    "    plt.savefig(my_dir + '/' + 'fig_3a_weather_correlate_temp_hum.png')"
   ]
  },
  {
   "cell_type": "markdown",
   "metadata": {},
   "source": [
    "<div class=\"alert alert-block alert-warning\">\n",
    "    <b><font color=black>step 2</b> </font><font color=darkblue>: Review the temp - highs and lows.</font>\n",
    "</div>\n",
    "\n",
    "### <font color = blue size=3>Table 3a - Display cleaned weather temp with humidity highs and lows.</font>"
   ]
  },
  {
   "cell_type": "code",
   "execution_count": null,
   "metadata": {},
   "outputs": [],
   "source": [
    "a = ext_df[['loc', 'temp']].groupby('loc').max().sort_values('temp', ascending=False)\n",
    "b = ext_df[['loc', 'temp']].groupby('loc').min().sort_values('temp', ascending=True)\n",
    "a.join(b,  lsuffix='_high', rsuffix='_low')"
   ]
  },
  {
   "cell_type": "markdown",
   "metadata": {},
   "source": [
    "<div class=\"alert alert-block alert-warning\">\n",
    "    <b><font color=black>step 3</b> </font><font color=darkblue>: Review the temp - highs and lows.</font>\n",
    "</div>\n",
    "\n",
    "### <font color = blue size=3>Table 3b - Display cleaned outdoors temp statistics.</font>"
   ]
  },
  {
   "cell_type": "code",
   "execution_count": null,
   "metadata": {},
   "outputs": [],
   "source": [
    "ext_df.groupby('loc')['temp'].describe()"
   ]
  },
  {
   "cell_type": "markdown",
   "metadata": {},
   "source": [
    "<div class=\"alert alert-block alert-warning\">\n",
    "    <b><font color=black>step 4</b> </font><font color=darkblue>: Show the weather elements standard deviations between parts of city.</font>\n",
    "</div>"
   ]
  },
  {
   "cell_type": "code",
   "execution_count": null,
   "metadata": {},
   "outputs": [],
   "source": [
    "print(\"######################################\")\n",
    "print(\"#Weather Standard Deviations between parts of the city.\")\n",
    "print(\"######################################\")\n",
    "print(\"# Keys: ext_atl      General ATL weather \")\n",
    "print(\"#       ext_coke     Coca-Cola Olypmic Village\")\n",
    "print(\"#       ext_marietta KFC 40' chicken in Marietta\")\n",
    "print(\"#       ext_stonemtn Stone Mountain Park, Stone Mtn., Ga.\")\n",
    "print(\"#\")\n",
    "print('# ext_atl      temp & hum standard deviation: {0:4.2f} \\t{1:4.2f}'.format(ext_atl['temp'].std(), ext_atl['hum'].std()))\n",
    "print('# ext_coke     temp & hum standard deviation: {0:4.2f} \\t{1:4.2f}'.format(ext_coke['temp'].std(), ext_coke['hum'].std()))\n",
    "print('# ext_marietta temp & hum standard deviation: {0:4.2f} \\t{1:4.2f}'.format(ext_marietta['temp'].std(), ext_marietta['hum'].std()))\n",
    "print('# ext_stonemtn temp & hum standard deviation: {0:4.2f} \\t{1:4.2f}'.format(ext_stonemtn['temp'].std(), ext_stonemtn['hum'].std()))\n"
   ]
  },
  {
   "cell_type": "markdown",
   "metadata": {},
   "source": [
    "<div class=\"alert alert-block alert-warning\">\n",
    "    <b><font color=black>step 5</b> </font><font color=darkblue>: Show the Weather correlation between parts of city.</font>\n",
    "</div>"
   ]
  },
  {
   "cell_type": "code",
   "execution_count": null,
   "metadata": {},
   "outputs": [],
   "source": [
    "print(\"######################################\")\n",
    "print(\"# External Environment Correlation Information.\")\n",
    "print(\"######################################\")\n",
    "print(\"# Keys: ext_atl      General ATL weather \")\n",
    "print(\"#       ext_coke     Coca-Cola Olypmic Village\")\n",
    "print(\"#       ext_marietta KFC 40' chicken in Marietta\")\n",
    "print(\"#       ext_stonemtn Stone Mountain Park, Stone Mtn., Ga.\")\n",
    "print(\"#\")\n",
    "print('# Correlate ext_atl to ext_coke     Temperature:{0:4.1f}%'.format(ext_atl.corrwith(ext_coke)[0] * 100))\n",
    "print('#                                   Humidity:{0:4.1f}%'.format(ext_atl.corrwith(ext_coke)[1] * 100))\n",
    "print(\"#\")\n",
    "print('# Correlate ext_atl to ext_marietta Temperature:{0:4.1f}%'.format(ext_atl.corrwith(ext_marietta)[0] * 100))\n",
    "print('#                                   Humidity:{0:4.1f}%'.format(ext_atl.corrwith(ext_marietta)[1] * 100))\n",
    "print(\"#\")\n",
    "print('# Correlate ext_atl to ext_stonemtn Temperature:{0:4.1f}%'.format(ext_atl.corrwith(ext_stonemtn)[0] * 100))\n",
    "print('#                                   Humidity:{0:4.1f}%'.format(ext_atl.corrwith(ext_stonemtn)[1] * 100))\n",
    "print(\"#\")"
   ]
  },
  {
   "cell_type": "markdown",
   "metadata": {},
   "source": [
    "<a id='sec3pt2'></a>\n",
    "## <font color=darkblue>Part 2 - Present Environment findings</font>\n",
    "\n",
    "\n",
    "<a href ='#top'>Jump to Table of Contents</a>\n",
    "\n",
    "<div class=\"alert alert-block alert-warning\">\n",
    "    <b><font color=black>step 1</b> </font><font color=darkblue>: Present humidity corresponding to temp.</font>\n",
    "</div>\n",
    "\n",
    "    \n",
    "### <font color = blue size=3>Figure 3b - Display of Environment correlating Humidity to Temperature.</font>"
   ]
  },
  {
   "cell_type": "code",
   "execution_count": null,
   "metadata": {},
   "outputs": [],
   "source": [
    "fs=22\n",
    "ax = mb.plot(kind=\"scatter\", x='hum', y=\"temp\",label=\"MSTR\", c='b')\n",
    "ax2 = lr.plot(kind=\"scatter\", x='hum', y=\"temp\",label=\"LIVING\", c='orange', ax = ax)\n",
    "ax3 = gb.plot(kind=\"scatter\", x='hum', y=\"temp\",label=\"GUEST\", c='r' , ax = ax)\n",
    "ax4 = kt.plot(kind=\"scatter\", x='hum', y=\"temp\",label=\"KITCHEN\", c='brown' , ax = ax)\n",
    "plt.xlabel('Humidity', color='green', fontsize=fs)\n",
    "plt.ylabel('Temperature', color='red', fontsize=fs)\n",
    "plt.title('Scatter plot of Indoor Data\\nCorrelating Humidity to Temperature', color='blue', fontsize=fs)\n",
    "if my_dir:\n",
    "    plt.savefig(my_dir + '/' + 'fig_3b_indoors_correlate_temp_hum.png')"
   ]
  },
  {
   "cell_type": "markdown",
   "metadata": {},
   "source": [
    "<div class=\"alert alert-block alert-warning\">\n",
    "    <b><font color=black>step 2</b> </font><font color=darkblue>: Review the data - highs and lows.</font>\n",
    "</div>\n",
    "\n",
    "### <font color = blue size=3>Table 3c - Display outdoors temp highs and lows.</font>"
   ]
  },
  {
   "cell_type": "code",
   "execution_count": null,
   "metadata": {},
   "outputs": [],
   "source": [
    "a = int_df[['room', 'temp']].groupby('room').max().sort_values('temp', ascending=False)\n",
    "b = int_df[['room', 'temp']].groupby('room').min().sort_values('temp', ascending=True)\n",
    "a.join(b,  lsuffix='_high', rsuffix='_low')"
   ]
  },
  {
   "cell_type": "markdown",
   "metadata": {},
   "source": [
    "<div class=\"alert alert-block alert-warning\">\n",
    "    <b><font color=black>step 3</b> </font><font color=darkblue>: Show the environment elements standard deviations between parts of home.</font>\n",
    "</div>"
   ]
  },
  {
   "cell_type": "code",
   "execution_count": null,
   "metadata": {},
   "outputs": [],
   "source": [
    "print(\"######################################\")\n",
    "print(\"#Environment Standard Deviations between parts of the home.\")\n",
    "print(\"######################################\")\n",
    "print(\"# Keys: kt           Kitchen - nearest thermostat \")\n",
    "print(\"#       lr           Living Room\")\n",
    "print(\"#       mb           Master Bed\")\n",
    "print(\"#       gb           Guest Bed\")\n",
    "print(\"#\")\n",
    "print('# kt      temp & hum standard deviation: {0:4.2f} \\t{1:4.2f}'.format(kt['temp'].std(), kt['hum'].std()))\n",
    "print('# lr      temp & hum standard deviation: {0:4.2f} \\t{1:4.2f}'.format(lr['temp'].std(), lr['hum'].std()))\n",
    "print('# mb      temp & hum standard deviation: {0:4.2f} \\t{1:4.2f}'.format(mb['temp'].std(), mb['hum'].std()))\n",
    "print('# gb      temp & hum standard deviation: {0:4.2f} \\t{1:4.2f}'.format(gb['temp'].std(), gb['hum'].std()))"
   ]
  },
  {
   "cell_type": "markdown",
   "metadata": {},
   "source": [
    "<div class=\"alert alert-block alert-warning\">\n",
    "    <b><font color=black>step 4</b> </font><font color=darkblue>: Show the environment correlations between parts of home.</font>\n",
    "</div>"
   ]
  },
  {
   "cell_type": "code",
   "execution_count": null,
   "metadata": {},
   "outputs": [],
   "source": [
    "print(\"######################################\")\n",
    "print(\"#Environment Correlations between parts of the home.\")\n",
    "print(\"######################################\")\n",
    "print(\"# Keys: kt           Kitchen - nearest thermostat \")\n",
    "print(\"#       lr           Living Room\")\n",
    "print(\"#       mb           Master Bed\")\n",
    "print(\"#       gb           Guest Bed\")\n",
    "print(\"#\")\n",
    "print('# Correlate kt to lr     Temperature:{0:4.1f}%'.format(kt.corrwith(lr)[0] * 100))\n",
    "print('#                           Humidity:{0:4.1f}%'.format(kt.corrwith(lr)[1] * 100))\n",
    "print(\"#\")\n",
    "print('# Correlate kt to mb      Temperature:{0:4.1f}%'.format(kt.corrwith(mb)[0] * 100))\n",
    "print('#                            Humidity:{0:4.1f}%'.format(kt.corrwith(mb)[1] * 100))\n",
    "print(\"#\")\n",
    "print('# Correlate kt to gb      Temperature:{0:4.1f}%'.format(kt.corrwith(gb)[0] * 100))\n",
    "print('#                            Humidity:{0:4.1f}%'.format(kt.corrwith(gb)[1] * 100))\n",
    "print(\"#\")\n",
    "print('# Correlate mb to gb      Temperature:{0:4.1f}%'.format(mb.corrwith(gb)[0] * 100))\n",
    "print('#                            Humidity:{0:4.1f}%'.format(mb.corrwith(gb)[1] * 100))\n",
    "print(\"#\")\n",
    "print('# Correlate mb to lr      Temperature:{0:4.1f}%'.format(mb.corrwith(lr)[0] * 100))\n",
    "print('#                            Humidity:{0:4.1f}%'.format(mb.corrwith(lr)[1] * 100))\n",
    "print(\"#\")\n",
    "print('# Correlate gb to lr      Temperature:{0:4.1f}%'.format(gb.corrwith(lr)[0] * 100))\n",
    "print('#                            Humidity:{0:4.1f}%'.format(gb.corrwith(lr)[1] * 100))"
   ]
  },
  {
   "cell_type": "markdown",
   "metadata": {},
   "source": [
    "<a id='sec3pt3'></a>\n",
    "## <font color=darkblue>Part 3 - Present All Data together</font>\n",
    "\n",
    "<a href ='#top'>Jump to Table of Contents</a>\n",
    "\n",
    "<div class=\"alert alert-block alert-warning\">\n",
    "    <b><font color=black>step 1</b> </font><font color=darkblue>: Review all cleaned data, side by side.</font>\n",
    "</div>\n",
    "\n",
    "### <font color = blue size=3>Figure 3c - Display the Outdoor and Indoor Data.</font>"
   ]
  },
  {
   "cell_type": "code",
   "execution_count": null,
   "metadata": {},
   "outputs": [],
   "source": [
    "import numpy as np\n",
    "fs=22\n",
    "fig = plt.figure()\n",
    "fig.patch.set_facecolor('lightgray')\n",
    "fig.patch.set_edgecolor('orange')\n",
    "graph1 = fig.add_subplot(2, 2, 1, facecolor='lightyellow')\n",
    "graph1.plot(ext_df[\"temp\"].rolling(10).mean(), ext_df['hum'].rolling(10).mean(), color='blue')\n",
    "graph1.scatter(ext_df[\"temp\"].rolling(10).mean(), ext_df['hum'].rolling(10).mean(), color='red')\n",
    "graph1.set_title(\"Outdoor Weather\\nTemperature and Humidity\", color='blue')\n",
    "graph1.set_xlabel('Temperature', color='green', fontsize=fs)\n",
    "graph1.set_ylabel('Humidity', color='red', fontsize=fs)\n",
    "graph1.set_xticks(np.arange(60, 100, step=10))\n",
    "graph1.set_yticks(np.arange(0, 100, step=10))\n",
    "graph2 = fig.add_subplot(2, 2, 2, facecolor='lightyellow')\n",
    "graph2.plot(int_df[\"temp\"].rolling(10).mean(), int_df['hum'].rolling(10).mean(), color='blue')\n",
    "graph2.scatter(int_df[\"temp\"].rolling(10).mean(), int_df['hum'].rolling(10).mean(), color='red')\n",
    "graph2.set_title(\"Indoor Environment\\nTemperature and Humidity\", color='blue')\n",
    "graph2.set_xlabel('Temperature', color='green', fontsize=fs)\n",
    "graph2.set_ylabel('Humidity', color='red', fontsize=fs)\n",
    "graph2.set_xticks(np.arange(60, 100, step=10))\n",
    "graph2.set_yticks(np.arange(0, 100, step=10))\n",
    "\n",
    "if my_dir:\n",
    "    plt.savefig(my_dir + '/' + 'fig_3c_display_both_temp_humidity.png')"
   ]
  },
  {
   "cell_type": "markdown",
   "metadata": {},
   "source": [
    "<div class=\"alert alert-block alert-warning\">\n",
    "    <b><font color=black>step 2</b> </font><font color=darkblue>: Review corrleation between derived (rolling mean) data and actual data.</font>\n",
    "</div>\n",
    "\n",
    "### <font color = blue size=3>Figure 3d - Display Correlation Heat-Map of Rolling Mean data to Reported data.</font>\n",
    "\n",
    "##### <font color=purple>No real value derived from using Rolling Mean. Just exercise in alter. way to generate heat map.</font>"
   ]
  },
  {
   "cell_type": "code",
   "execution_count": null,
   "metadata": {},
   "outputs": [],
   "source": [
    "merged_df = ext_df.join(int_df, how='left', lsuffix='_out', rsuffix='_in')\n",
    "data=merged_df.corr()\n",
    "fig = plt.figure()\n",
    "ax = fig.add_subplot(111)\n",
    "#plt.matshow(data)\n",
    "alpha = ['temp_out', 'hum_out', 'avg_temp', 'avg_hum','temp_in', 'hum_in']\n",
    "cax = ax.matshow(data, interpolation='nearest')\n",
    "fig.colorbar(cax)\n",
    "\n",
    "ax.set_xticklabels([''] + alpha)\n",
    "ax.set_yticklabels([''] + alpha)\n",
    "\n",
    "plt.title(\"Correlation Heat Map\\nbetween outdoor weather and indoor environment\", color='red')\n",
    "\n",
    "\n",
    "plt.savefig(my_dir + '/' + 'fig_3d_heatmap_rolldata_2_actual.png')\n"
   ]
  },
  {
   "cell_type": "markdown",
   "metadata": {},
   "source": [
    "<a id='sec3pt4'></a>\n",
    "## <font color=darkblue>Part 4 - Present Composite of weather and environment</font>\n",
    "\n",
    "\n",
    "<a href ='#top'>Jump to Table of Contents</a>\n",
    "\n",
    "<div class=\"alert alert-block alert-warning\">\n",
    "    <b><font color=black>step 1</b> </font><font color=darkblue>: Present Composite Correlation Plot.</font>\n",
    "</div>\n",
    "\n",
    "### <font color = blue size=3>Figure 3e - Display of weather data merged with environment data.</font>"
   ]
  },
  {
   "cell_type": "code",
   "execution_count": null,
   "metadata": {},
   "outputs": [],
   "source": [
    "fs=22\n",
    "merged_df = ext_df.join(int_df, how='left', lsuffix='_out', rsuffix='_in')\n",
    "merged_df.plot()\n",
    "plt.xlabel('Dates', color='green', fontsize=fs)\n",
    "plt.ylabel(\"Temperature and Humidity\", color='red', fontsize=fs)\n",
    "plt.title(\"Composite of findings\\nExternal Data and Indoor Data\", color='blue', fontsize=fs)\n",
    "\n",
    "if my_dir:\n",
    "    plt.savefig(my_dir + '/' + 'fig_3e_composite_outdoor_indoor_temp_n_humidity.png')"
   ]
  },
  {
   "cell_type": "markdown",
   "metadata": {},
   "source": [
    "<div class=\"alert alert-block alert-warning\">\n",
    "    <b><font color=black>step 2</b> </font><font color=darkblue>: Present Composite Correlation stats.</font>\n",
    "</div>\n",
    "\n",
    "### <font color = blue size=3>Table 3d - Display ALL statistics, both derived and real, indoor and outdoor.</font>"
   ]
  },
  {
   "cell_type": "code",
   "execution_count": null,
   "metadata": {},
   "outputs": [],
   "source": [
    "new_df['avg_temp_in'] = new_df['temp'].rolling(10).mean().dropna()\n",
    "new_df['avg_hum_in'] = new_df['hum'].rolling(10).mean().dropna()\n",
    "new_df = new_df[abs(stats.zscore(new_df['temp'])) < 2.0]\n",
    "print(abs(stats.zscore(new_df['hum'])).min())\n",
    "new_df = new_df[abs(stats.zscore(new_df['hum'])) < 2.0 ]\n",
    "new_df.replace({'device': {'B8:27:EB:76:5F:45': 'Living Room', 'B8:27:EB:2D:40:28': 'Master Bedroom', 'B8:27:EB:37:B0:F8': 'Guest Bedroom', 'B8:27:EB:A9:D4:C2': 'Kitchen'}}, inplace=True)\n",
    "new_df.rename(columns={'device': 'room'}, inplace=True)\n",
    "new_df.set_index(['sysdate'], inplace=True)\n",
    "merged_df = ext_df.join(new_df, how='left', lsuffix='_out', rsuffix='_in')\n",
    "merged_df.corr()\n"
   ]
  },
  {
   "cell_type": "markdown",
   "metadata": {},
   "source": [
    "<a id='conclusions'></a>\n",
    "<font color=black size=1>=============================================================================================================</font>\n",
    "\n",
    "\n",
    "<font color=darkpink size=10>Conclusions</font>\n",
    "\n",
    "<font color=black size=1>=============================================================================================================</font>\n",
    "\n",
    "<a href ='#top'>Jump to Table of Contents</a>"
   ]
  },
  {
   "cell_type": "markdown",
   "metadata": {},
   "source": [
    "<a id='section4'></a>\n",
    "# <font color=darkpink>Section 1: Comparative Analysis</font>\n",
    "<a href ='#top'>Jump to Table of Contents</a>"
   ]
  },
  {
   "cell_type": "markdown",
   "metadata": {},
   "source": [
    "<div class=\"alert alert-block alert-warning\">\n",
    "    <b><font color=black>step 1</b> </font><font color=darkblue>: Show the correlation between humidity and temp.</font>\n",
    "</div>"
   ]
  },
  {
   "cell_type": "code",
   "execution_count": null,
   "metadata": {},
   "outputs": [],
   "source": [
    "print(\"#---------------------------------#\")\n",
    "print(\"External temp correlation to forecast\")\n",
    "print(\"#---------------------------------#\")\n",
    "print(f\"External correlation:\",ext_df[['temp', 'forecast']].corr())\n",
    "print(\" \")\n",
    "print(f\"External covariance\", ext_df[['temp', 'forecast']].cov())\n",
    "print(\" \")\n",
    "print(\"#---------------------------------#\")\n",
    "print(\"External temp correlation to humidity\")\n",
    "print(\"#---------------------------------#\")\n",
    "print(f\"External correlation:\",ext_df[['temp', 'hum']].corr())\n",
    "print(\" \")\n",
    "print(f\"External covariance\", ext_df[['temp', 'hum']].cov())\n",
    "print(\" \")\n",
    "print(\"#---------------------------------#\")\n",
    "print(\"Internal temp correlation to humidity\")\n",
    "print(\"#---------------------------------#\")\n",
    "print(f\"Internal correlation\", int_df[['temp', 'hum']].corr())\n",
    "print(\" \")\n",
    "print(f\"Internal covariance\",  int_df[['temp', 'hum']].cov())\n",
    "print(\" \")\n",
    "print(\" \")\n",
    "print(\"#---------------------------------#\")\n",
    "print(\"Internal temp and humidity correlation to external temp and humidity\")\n",
    "print(\"#---------------------------------#\")\n",
    "ext_df.corrwith(int_df, axis=0)"
   ]
  },
  {
   "cell_type": "markdown",
   "metadata": {},
   "source": [
    "<div class=\"alert alert-block alert-warning\">\n",
    "    <b><font color=black>step 2</b> </font><font color=darkblue>: Visualize internal and external variables.</font>\n",
    "</div>\n",
    "\n",
    "    \n",
    "### <font color = blue size=3>Figure 4a - Overlay of outdoor and indoor correlating data.</font>"
   ]
  },
  {
   "cell_type": "code",
   "execution_count": null,
   "metadata": {},
   "outputs": [],
   "source": [
    "fs=22\n",
    "ax = mb.plot(kind=\"scatter\", x='hum', y=\"temp\",label=\"MSTR\", c='b', figsize = (22,11))\n",
    "ax2 = lr.plot(kind=\"scatter\", x='hum', y=\"temp\",label=\"LIVING\", c='orange', ax = ax)\n",
    "ax3 = gb.plot(kind=\"scatter\", x='hum', y=\"temp\",label=\"GUEST\", c='r' , ax = ax)\n",
    "ax4 = kt.plot(kind=\"scatter\", x='hum', y=\"temp\",label=\"KITCHEN\", c='brown' , ax = ax)\n",
    "ax5 = ext_atl.plot(kind=\"scatter\", x='hum', y=\"temp\",label=\"ATL\", c='green' , ax = ax)\n",
    "ax6 = ext_marietta.plot(kind=\"scatter\", x='hum', y=\"temp\",label=\"MARI\", c='purple' , ax = ax)\n",
    "ax7 = ext_stonemtn.plot(kind=\"scatter\", x='hum', y=\"temp\",label=\"STNMTN\", c='gray' , ax = ax)\n",
    "ax8 = ext_coke.plot(kind=\"scatter\", x='hum', y=\"temp\",label=\"COKE\", c='yellow' , ax = ax)\n",
    "plt.xlabel('humidity', color='green', fontsize=fs)\n",
    "plt.ylabel('temperature', color='red', fontsize=fs)\n",
    "plt.title('Composite of all Collected Data\\nOutdoor Data overlayed with Indoor Data', color='blue', fontsize=fs)\n",
    "\n",
    "if my_dir:\n",
    "    plt.savefig(my_dir + '/' + 'fig_4a_composite_scatter_all.png')"
   ]
  },
  {
   "cell_type": "markdown",
   "metadata": {},
   "source": [
    "<a id='sec4pt2'></a>\n",
    "# <font color=darkpink>Section 2: Conclusions</font>\n",
    "<a href ='#top'>Jump to Table of Contents</a>"
   ]
  },
  {
   "cell_type": "markdown",
   "metadata": {},
   "source": [
    "In this project, we used inexpensive parts to collect the indoor's temperature and humidity and queried darksky.net using the Python programming language for weather data. The weather information was only cleaned for missing data, assuming the api provider was sending credible data, whereas the internal data was cleaned using Z-scoring, allowing for 2 standard deviations. \n",
    "   The correlations found were consistent with general weather and environmental properties. Depending on the amount of data pulled, with 5 days being the minimum (yielding over 600 weather records  and over 7,000 environment records per day) , we found a **correlation of -. 91 between the external temperture and humidity. The indoor variables had a -.87 correlation between the external temperature and humidity**. Rolling averages on external temp and humidity were computed and graphed, but were found not to provide any additional insights. With the wide fluctuations on the weather's temp and humidity, we found the environment (internal) temp to remain within a narrow, consistent range of no more than -2 degrees difference between thermostat settings and actual indoor temperature. This suggests that the a/c cooling unit is working at expected capacity, but ventilation and other factors led to non-trivial disparity in cooling each room. **The disparity is supported by the composite correction stats showing only a 37% correlation between the temp indoors and the average temp indoors**(derived from a rolling mean).\n",
    "   **These findings suggest making indoor changes to improve cooling efficiencies, and that a stronger a/c unit would not yield any significant value**. Changes include reducing the amount of direct sunlight entering the room, restricting ventilation in rooms which cool below thermostat settings and adding a dehumidifier to supplement the a/c unit's work."
   ]
  },
  {
   "cell_type": "markdown",
   "metadata": {},
   "source": [
    "<a id='sec4pt3'></a>\n",
    "# <font color=darkpink>Section 3: Limitations and Future plans</font>\n",
    "<a href ='#top'>Jump to Table of Contents</a>"
   ]
  },
  {
   "cell_type": "markdown",
   "metadata": {},
   "source": [
    "There are several limitations to this study. First, the **individual sensors were NOT calibrated together so the accuracy of the temperature and humidity are limited to comparing the thermostat setting to the each sensor's thermal report**. During the study, and after 7 days of reporting, the performance of the master bedroom sensor was questioned and then changed from a DHT-11 to a DHT-22 sensor. The **overall impact to reporting was adding high temperature outliers to the data collection pool, while the newly installed sensor self-calibrated**. Calibration time took about 3 minutes. That being said, potential bias from extreme data points collected by the sensors was mimimized by excluding data points exceeding 2 standard deviations. \n",
    "   While data reguarding **other factors known to affect thermal efficiency (i.e. insulation, window panes, etc.) were not collected**, the overall goal of this study was to ascertain whether the a/c was cooling properly and if room specific changes were needed to average out cooling the home, overall. A principle finding of this study was that investment in a new $5,000 a/c system would be premature. With respect to extensions of the current project, the next step is to shrink the data collection elements, so they are plug and play, and replace all dht-11 sensors with AM-312, DS18B20 or DHT-22 sensors. The largest challenge lies in setting up the wifi on each collection device, although not arduous for setting up within a home, anything larger could prove to be task intensive. . \n",
    "   \n",
    "Another domestic, indoor test will commence with the onset of winter in order to study and maximize heating efficiencies. We are researching how to economically build an interface that actually tracks when the HVAC engages, as well as a watchdog program running on the Raspberry Pi, that will e-mail the homeowner when indoor temperature is below or above the thresholds set by the homeowner.\n",
    "\n",
    "Other plans are to set up agricultural solution, measuring both outside temp and inside a hothouse or nursery. "
   ]
  },
  {
   "cell_type": "markdown",
   "metadata": {},
   "source": [
    "### <font color = blue size=3>Figure 5a - Limitation of master bedroom sensor gone awry.</font>"
   ]
  },
  {
   "cell_type": "code",
   "execution_count": null,
   "metadata": {},
   "outputs": [],
   "source": [
    "fs=22\n",
    "plt.rcParams['figure.figsize'] = (16,12)\n",
    "plt.rcParams['font.size'] = 15\n",
    "\n",
    "x = mb['hum']\n",
    "\n",
    "y = mb['temp']\n",
    "\n",
    "plt.plot(x, y, color='orange', label='time series path')\n",
    "plt.scatter(x, y, label='Master Bedroom (mb)', color='b', s=250, marker='x')\n",
    "\n",
    "\n",
    "\n",
    "plt.xlabel('Humidity', color='green', fontsize=fs)\n",
    "plt.ylabel('Temperature', color='red', fontsize=fs)\n",
    "plt.title('Master bedroom temperature and humidity graph\\nshowing erratic findings before replacing sensor\\nand high temperature outliers from replacement sensor self-calibration', color='blue', fontsize=fs)\n",
    "plt.subplots_adjust(left=0.09, bottom=0.20, right=0.94, top=0.90, wspace=0.2)\n",
    "plt.legend()\n",
    "\n",
    "if my_dir:\n",
    "    plt.savefig(my_dir + '/' + 'fig_5a_limitation_mstrbed_sensor_awry.png')"
   ]
  }
 ],
 "metadata": {
  "kernelspec": {
   "display_name": "Python 3",
   "language": "python",
   "name": "python3"
  },
  "language_info": {
   "codemirror_mode": {
    "name": "ipython",
    "version": 3
   },
   "file_extension": ".py",
   "mimetype": "text/x-python",
   "name": "python",
   "nbconvert_exporter": "python",
   "pygments_lexer": "ipython3",
   "version": "3.7.1"
  }
 },
 "nbformat": 4,
 "nbformat_minor": 2
}
